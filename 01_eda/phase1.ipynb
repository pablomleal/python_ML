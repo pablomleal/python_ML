{
 "cells": [
  {
   "cell_type": "markdown",
   "metadata": {},
   "source": [
    "#Brief description of the dataset\n",
    "\n",
    "I am going to work with two datasets and combine them:\n",
    "\n",
    "- Total amount of power generated through time by energy type.\n",
    "- Price of power."
   ]
  },
  {
   "cell_type": "markdown",
   "metadata": {},
   "source": [
    "First we are going to load the necessary modules for this program to work:"
   ]
  },
  {
   "cell_type": "code",
   "execution_count": null,
   "metadata": {},
   "outputs": [],
   "source": [
    "import pandas as pd\n",
    "import numpy as np\n",
    "import matplotlib.pyplot as plt\n",
    "import seaborn as sns"
   ]
  },
  {
   "cell_type": "markdown",
   "metadata": {},
   "source": [
    "Then, we will load the datasets that we have produced from our JS application. I need to combine different years of data:"
   ]
  },
  {
   "cell_type": "code",
   "execution_count": null,
   "metadata": {},
   "outputs": [],
   "source": [
    "years = ['2017', '2018', '2019', '2020', '2021']\n",
    "\n",
    "EnergyGeneration_All = pd.io.json.read_json('./energy_generation_type_date2016.json')\n",
    "for x in years:\n",
    "    pathEnergy = './energy_generation_type_date' + x + '.json'\n",
    "    newDF = pd.io.json.read_json(pathEnergy).round()\n",
    "    EnergyGeneration_All = EnergyGeneration_All.append(newDF)\n",
    "\n",
    "EnergyGeneration_All\n"
   ]
  },
  {
   "cell_type": "markdown",
   "metadata": {},
   "source": [
    "On the other hand we will now import the prices of energy, also on a daily basis."
   ]
  },
  {
   "cell_type": "code",
   "execution_count": null,
   "metadata": {},
   "outputs": [],
   "source": [
    "\n",
    "pathPrices = './prices.csv'\n",
    "\n",
    "historyPrice = pd.read_csv(pathPrices, decimal=',')\n",
    "\n",
    "historyPrice"
   ]
  },
  {
   "cell_type": "markdown",
   "metadata": {},
   "source": [
    "In this case we can see that the dates are in European form, in fact they're not even interpreted as dates. Let's convert them and set them as index, so that it looks the same as the other df:"
   ]
  },
  {
   "cell_type": "code",
   "execution_count": null,
   "metadata": {},
   "outputs": [],
   "source": [
    "historyPrice['Fecha'] = pd.to_datetime(historyPrice['Fecha'], format='%d/%m/%Y')\n",
    "historyPrice.set_index('Fecha', inplace=True)\n",
    "historyPrice"
   ]
  },
  {
   "cell_type": "markdown",
   "metadata": {},
   "source": [
    "Now we are ready to merge this data by using the dates as an index.\n",
    "This will yield only as a result the rows where the date is present for both dataframes."
   ]
  },
  {
   "cell_type": "code",
   "execution_count": null,
   "metadata": {},
   "outputs": [],
   "source": [
    "PriceEnergy = historyPrice.merge(EnergyGeneration_All, left_on='Fecha', right_index=True)\n",
    "PriceEnergy \n"
   ]
  },
  {
   "cell_type": "markdown",
   "metadata": {},
   "source": [
    "#Initial plan for data exploration\n",
    "\n",
    "In our datasets we have basically three variables: price, type of energy, and amount of energy. \n",
    "My idea is to use scatter charts, and histograms in order to have a first visual idea of the relation between these variables."
   ]
  },
  {
   "cell_type": "markdown",
   "metadata": {},
   "source": [
    "#Actions taken for data cleaning\n",
    "\n",
    "Now that we have both dataframes merged, we can check if everything is correct.\n",
    "1) In principle, there should be no NaN values. Here we get one column (Fuel + Gas, #4) with most of values NaN so we will discard it."
   ]
  },
  {
   "cell_type": "code",
   "execution_count": null,
   "metadata": {},
   "outputs": [],
   "source": [
    "PriceEnergy.info()\n",
    "PriceEnergy.drop(columns='Fuel + Gas', inplace=True)\n"
   ]
  },
  {
   "cell_type": "markdown",
   "metadata": {},
   "source": [
    "Now, there should be no negative values. From describe() we get some rows where the minimum is negative. \n",
    "The only place where this is relevant is in column Carbón (Coal), although the value is quite little  we will replace all those values with '0'."
   ]
  },
  {
   "cell_type": "code",
   "execution_count": null,
   "metadata": {},
   "outputs": [],
   "source": [
    "PriceEnergy.describe()\n",
    "EnergyGeneration_All.loc[(EnergyGeneration_All['Carbón'] < 0)] = 0"
   ]
  },
  {
   "cell_type": "markdown",
   "metadata": {},
   "source": [
    "Moreover, the maximum of each column must be lower than maximum of Total Generation. \n",
    "Here is can be seen that the maximum generation is 943229, which should be higher than the maximum of the rest of values for any given day. Which is true.\n"
   ]
  },
  {
   "cell_type": "code",
   "execution_count": null,
   "metadata": {},
   "outputs": [],
   "source": [
    "PriceEnergy.max()"
   ]
  },
  {
   "cell_type": "markdown",
   "metadata": {},
   "source": [
    "#Exploratory data analysis\n",
    "\n",
    "I am going to draw several plots in order to understand the data that we have.\n",
    "\n",
    "If we plot the total generated energy as a whole, I realise that there is a lot of noise around this indicator, so I am going to work with a moving average of 14 days.\n",
    "In the illustration below it can be seen the real value vs the moving average. Note that the real values have such a high fluctuation, that it is even hard to tell the value of the function."
   ]
  },
  {
   "cell_type": "code",
   "execution_count": null,
   "metadata": {},
   "outputs": [],
   "source": [
    "PriceEnergy['Average'] = pd.Series.rolling(PriceEnergy['Generación total'], 14).mean().round()\n",
    "PriceEnergy\n",
    "\n",
    "fig, ax = plt.subplots()\n",
    "\n",
    "ax.plot(PriceEnergy['Generación total'])\n",
    "ax.plot(PriceEnergy['Average'])\n",
    "\n",
    "plt.show()"
   ]
  },
  {
   "cell_type": "markdown",
   "metadata": {},
   "source": [
    "From the plot above it is not easy to tell if there has been major changes in energy consumption in Spain.\n",
    "We will stack the series by eliminating the year in order to analyze this in a more visual manner."
   ]
  },
  {
   "cell_type": "code",
   "execution_count": null,
   "metadata": {},
   "outputs": [],
   "source": [
    "generationHistory = pd.DataFrame(PriceEnergy['Average'])\n",
    "\n",
    "generationHistory['año'] = generationHistory.index.to_series().dt.year\n",
    "generationHistory['fecha'] = generationHistory.index.to_series().dt.strftime('%m-%d')\n",
    "generationHistory.set_index(['año', 'fecha'], inplace=True)\n",
    "generationHistory = generationHistory.unstack(level=0)\n",
    "#generationHistory['avg_16_20'] = df.loc[2017:]\n",
    "\n",
    "older_years = generationHistory['Average'].loc[:, '2016':'2020'].mean(axis=1)\n",
    "older_years\n"
   ]
  },
  {
   "cell_type": "markdown",
   "metadata": {},
   "source": [
    "Now we are ready to plot it."
   ]
  },
  {
   "cell_type": "code",
   "execution_count": null,
   "metadata": {},
   "outputs": [],
   "source": [
    "plt.plot(generationHistory)\n",
    "plt.show()"
   ]
  },
  {
   "cell_type": "markdown",
   "metadata": {},
   "source": [
    "Another column we may use is the amount of energy that is renewable vs non renewable:"
   ]
  },
  {
   "cell_type": "code",
   "execution_count": null,
   "metadata": {},
   "outputs": [],
   "source": [
    "PriceEnergy['Renovable'] = PriceEnergy['Hidráulica'] + PriceEnergy['Hidroeólica'] + PriceEnergy['Eólica'] + PriceEnergy['Solar fotovoltaica'] + PriceEnergy['Solar térmica'] + PriceEnergy['Otras renovables'] + PriceEnergy['Residuos renovables']\n",
    "\n",
    "PriceEnergy['No renovable'] = PriceEnergy['Generación total'] - PriceEnergy['Renovable'] \n",
    "\n",
    "PriceEnergy['Renovable_media'] = pd.Series.rolling(PriceEnergy['Renovable'], 14).mean().round()\n",
    "PriceEnergy.to_csv('out.csv')\n",
    "PriceEnergy"
   ]
  },
  {
   "cell_type": "markdown",
   "metadata": {},
   "source": [
    "Now I would like to have a look at the data combined.\n",
    "\n",
    "After several rounds of testing, I have decided to define a function so that we can draw multiple plots quickly. The function will show:\n",
    "\n",
    "- The distribution of the column that I am analyzing (in the first attempt, the Total Generation)\n",
    "- Price and Energy vs Date.\n",
    "- Scatter of Price vs Energy. \n",
    "\n",
    "When we plot the data (price and energy) of all 5 years, it turns out that the distribution \"looks pretty normal\". \n",
    "But at first it is hard to tell any correlation between them. In fact, by late 2021 we see that energy remains constant while price skyrockets. In fact we get a Pearson correlation of 0.12."
   ]
  },
  {
   "cell_type": "code",
   "execution_count": null,
   "metadata": {},
   "outputs": [],
   "source": [
    "def plot_PriceEnergy_Energyhist(myCol, dateFrom, dateTo):\n",
    "    PriceEnergy_select = PriceEnergy.loc[dateFrom:dateTo]\n",
    "    \n",
    "    #First plot: Energy histogram (to answer the question, is it normal distribution?)\n",
    "    sns.distplot(PriceEnergy_select[myCol], bins=10)\n",
    "    plt.show()\n",
    "    \n",
    "    sns.distplot(PriceEnergy_select['Precio'], bins=10)\n",
    "    plt.show()\n",
    "    fig, axs = plt.subplots(2)\n",
    "\n",
    "    #Second plot: Price and energy generation vs. Date\n",
    "    color = 'tab:red' \n",
    "    axs[0].set_xlabel('Date')\n",
    "    axs[0].set_ylabel('precio')\n",
    "    axs[0].plot(PriceEnergy_select['Precio'], color=color)\n",
    "\n",
    "    axs0_right = axs[0].twinx()\n",
    "    axs0_right.set_ylabel('Energy')\n",
    "    axs0_right.plot(PriceEnergy_select[myCol])\n",
    "\n",
    "    #Third plot: \n",
    "    axs[1].scatter(PriceEnergy_select[myCol], PriceEnergy_select['Precio'])\n",
    "    plt.show()\n",
    "\n",
    "    \n",
    "    \n",
    "    print(\"Correlación Pearson: \", PriceEnergy_select['Precio'].corr(PriceEnergy_select[myCol], method='spearman'))\n",
    "   \n",
    "\n",
    "plot_PriceEnergy_Energyhist('Average', '2016-01-01', '2021-12-31')"
   ]
  },
  {
   "cell_type": "markdown",
   "metadata": {},
   "source": [
    "But what happens when we limit the amount of data analyzed to the last year:"
   ]
  },
  {
   "cell_type": "code",
   "execution_count": null,
   "metadata": {},
   "outputs": [],
   "source": [
    "plot_PriceEnergy_Energyhist('Average', '2021-01-01', '2021-12-31')"
   ]
  },
  {
   "cell_type": "markdown",
   "metadata": {},
   "source": [
    "Again it does not look too promising.\n",
    "Now let's focus at another hypothesis: more expensive energies need to come into play because the renewable energies (the cheapest of all) can't cope with demand.\n",
    "Consequently, if we limit the analysis to renewables, we should see a negative correlation of some sort."
   ]
  },
  {
   "cell_type": "code",
   "execution_count": null,
   "metadata": {},
   "outputs": [],
   "source": [
    "plot_PriceEnergy_Energyhist('Renovable_media', '2016-01-01', '2021-12-31')"
   ]
  },
  {
   "cell_type": "markdown",
   "metadata": {},
   "source": [
    "If we pay close attention to the plot, for example zooming into (2016-01-01 until 2017-07-31) we could tell some correspondence between the renewable energy increasing and the price decreasing.\n",
    "If we assume a normal distribution, the linear coefficient raises to -0.62.\n",
    "\n",
    "This suggests that there is a correlation between the renewable energy that is generated and the price.  "
   ]
  },
  {
   "cell_type": "code",
   "execution_count": null,
   "metadata": {},
   "outputs": [],
   "source": [
    "plot_PriceEnergy_Energyhist('Renovable_media', '2016-01-01', '2017-07-31')"
   ]
  },
  {
   "cell_type": "markdown",
   "metadata": {},
   "source": [
    "Moreover, the fact that by reducing the time frame this is more evident, suggests that we shouldn't compare data from different years, because there may be other macroeconomic factors out of our control affecting the price. Therefore, we will do the analysis separately  will focus the analysis in the Renewable energy but in separate years.\n",
    "\n",
    "By executing the function separately for each year, we get the following Pearson's coefficients:\n",
    "- 2016: -.823\n",
    "- 2017: -.011\n",
    "- 2018: -.795\n",
    "- 2019: +.11\n",
    "- 2020: .074\n",
    "- 2021: -.63\n",
    "\n",
    "As we can see, it is rather variable. Some years show a strong correlation, while others a weak one. This suggests that the wind blowing less has some influence, but it is not the only one in a complex process such as the energy price setting.\n",
    "\n",
    "\n"
   ]
  },
  {
   "cell_type": "code",
   "execution_count": null,
   "metadata": {},
   "outputs": [],
   "source": [
    "plot_PriceEnergy_Energyhist('Renovable_media', '2021-01-01', '2021-12-31')"
   ]
  },
  {
   "cell_type": "markdown",
   "metadata": {},
   "source": [
    "#Key findings and insights\n",
    "\n",
    "There seems to be some degree of inverse correlation between the power of renewable energies generated at a given day, and the price of those energies.\n",
    "This makes sense, because renewable energies are cheap to produce. However they are unstable. Wind does not blow whenever we want. So when this happens, other less cheap energies come into play.\n",
    "Such correlation is sometimes stronger, sometimes weaker, because there are other factors that need to be taken into account (such as CO2 rights).\n",
    "\n",
    "Based on these findings, I would suggest to assess the Cost / Benefit of installing more renewable energy plants. The question would be, whether the taxpayer money invested in more windmills would compensate for the reduced energy bill.\n",
    "With the caution that there may be other factors coming into place."
   ]
  },
  {
   "cell_type": "markdown",
   "metadata": {},
   "source": [
    "#Formal significance test\n",
    "\n",
    "Hypothesis: the energy prices have gone this year up until 150 EUR. We would be interested in knowing if this is going to be a long-term trend (H0) or if it is going to be a short-term variation (H1).\n",
    "For this we choose a p-value of 0.05. Meaning that if at least 5% of the daily prices is above 150 EUR, then we can accept this is a permanent trend.\n",
    "\n",
    "From the CDF for prices calculated above, the probability of the price going above 150 EUR, this year, is of 6 days out of 259 days, that is 0.023%.\n",
    "As this result is below the p-level, then we must reject the null hypothesis and conclude that this is a short term trend."
   ]
  },
  {
   "cell_type": "markdown",
   "metadata": {},
   "source": [
    "#Conclusions\n",
    "\n",
    "At this point, it can be said that the price of energy shows a correlation which has been dominant over the past few years, although this is not the only one.\n",
    "It can be said with an X percent confidence that an increase of renewable power in the country can lead to a decrease in Y euros in the MWh.\n",
    "\n",
    "However there are other possible factors intervening in th\n",
    "In order to be able to analyze them, we would need additional data: CO2 markets."
   ]
  },
  {
   "cell_type": "markdown",
   "metadata": {},
   "source": []
  }
 ],
 "metadata": {
  "interpreter": {
   "hash": "2e3c1e8da6e821b0193601da5a0e541c0efda9704da45b6b820f5f4c317f2def"
  },
  "kernelspec": {
   "display_name": "Python 3.9.0 64-bit",
   "language": "python",
   "name": "python3"
  },
  "language_info": {
   "codemirror_mode": {
    "name": "ipython",
    "version": 3
   },
   "file_extension": ".py",
   "mimetype": "text/x-python",
   "name": "python",
   "nbconvert_exporter": "python",
   "pygments_lexer": "ipython3",
   "version": "3.9.0"
  },
  "orig_nbformat": 4
 },
 "nbformat": 4,
 "nbformat_minor": 2
}
