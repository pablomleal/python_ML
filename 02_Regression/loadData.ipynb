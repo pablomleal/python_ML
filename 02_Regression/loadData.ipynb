{
 "cells": [
  {
   "cell_type": "markdown",
   "metadata": {},
   "source": [
    "#Brief description of the dataset\n",
    "\n",
    "I am going to work with two datasets and combine them:\n",
    "\n",
    "- Total amount of power generated through time by energy type.\n",
    "- Price of power."
   ]
  },
  {
   "cell_type": "markdown",
   "metadata": {},
   "source": [
    "First we are going to load the necessary modules for this program to work:"
   ]
  },
  {
   "cell_type": "code",
   "execution_count": 2,
   "metadata": {},
   "outputs": [
    {
     "name": "stdout",
     "output_type": "stream",
     "text": [
      "Requirement already satisfied: pandas in /Library/Frameworks/Python.framework/Versions/3.11/lib/python3.11/site-packages (2.0.1)\n",
      "Requirement already satisfied: scikit-learn in /Library/Frameworks/Python.framework/Versions/3.11/lib/python3.11/site-packages (1.2.2)\n",
      "Requirement already satisfied: matplotlib in /Library/Frameworks/Python.framework/Versions/3.11/lib/python3.11/site-packages (3.7.1)\n",
      "Requirement already satisfied: seaborn in /Library/Frameworks/Python.framework/Versions/3.11/lib/python3.11/site-packages (0.12.2)\n",
      "Requirement already satisfied: python-dateutil>=2.8.2 in /Users/mireiasanchez/Library/Python/3.11/lib/python/site-packages (from pandas) (2.8.2)\n",
      "Requirement already satisfied: pytz>=2020.1 in /Library/Frameworks/Python.framework/Versions/3.11/lib/python3.11/site-packages (from pandas) (2023.3)\n",
      "Requirement already satisfied: tzdata>=2022.1 in /Library/Frameworks/Python.framework/Versions/3.11/lib/python3.11/site-packages (from pandas) (2023.3)\n",
      "Requirement already satisfied: numpy>=1.21.0 in /Library/Frameworks/Python.framework/Versions/3.11/lib/python3.11/site-packages (from pandas) (1.24.3)\n",
      "Requirement already satisfied: scipy>=1.3.2 in /Library/Frameworks/Python.framework/Versions/3.11/lib/python3.11/site-packages (from scikit-learn) (1.10.1)\n",
      "Requirement already satisfied: joblib>=1.1.1 in /Library/Frameworks/Python.framework/Versions/3.11/lib/python3.11/site-packages (from scikit-learn) (1.2.0)\n",
      "Requirement already satisfied: threadpoolctl>=2.0.0 in /Library/Frameworks/Python.framework/Versions/3.11/lib/python3.11/site-packages (from scikit-learn) (3.1.0)\n",
      "Requirement already satisfied: contourpy>=1.0.1 in /Library/Frameworks/Python.framework/Versions/3.11/lib/python3.11/site-packages (from matplotlib) (1.0.7)\n",
      "Requirement already satisfied: cycler>=0.10 in /Library/Frameworks/Python.framework/Versions/3.11/lib/python3.11/site-packages (from matplotlib) (0.11.0)\n",
      "Requirement already satisfied: fonttools>=4.22.0 in /Library/Frameworks/Python.framework/Versions/3.11/lib/python3.11/site-packages (from matplotlib) (4.39.3)\n",
      "Requirement already satisfied: kiwisolver>=1.0.1 in /Library/Frameworks/Python.framework/Versions/3.11/lib/python3.11/site-packages (from matplotlib) (1.4.4)\n",
      "Requirement already satisfied: packaging>=20.0 in /Users/mireiasanchez/Library/Python/3.11/lib/python/site-packages (from matplotlib) (23.1)\n",
      "Requirement already satisfied: pillow>=6.2.0 in /Library/Frameworks/Python.framework/Versions/3.11/lib/python3.11/site-packages (from matplotlib) (9.5.0)\n",
      "Requirement already satisfied: pyparsing>=2.3.1 in /Library/Frameworks/Python.framework/Versions/3.11/lib/python3.11/site-packages (from matplotlib) (3.0.9)\n",
      "Requirement already satisfied: six>=1.5 in /Users/mireiasanchez/Library/Python/3.11/lib/python/site-packages (from python-dateutil>=2.8.2->pandas) (1.16.0)\n",
      "\n",
      "\u001b[1m[\u001b[0m\u001b[34;49mnotice\u001b[0m\u001b[1;39;49m]\u001b[0m\u001b[39;49m A new release of pip available: \u001b[0m\u001b[31;49m22.3.1\u001b[0m\u001b[39;49m -> \u001b[0m\u001b[32;49m23.1.2\u001b[0m\n",
      "\u001b[1m[\u001b[0m\u001b[34;49mnotice\u001b[0m\u001b[1;39;49m]\u001b[0m\u001b[39;49m To update, run: \u001b[0m\u001b[32;49mpython3 -m pip install --upgrade pip\u001b[0m\n"
     ]
    }
   ],
   "source": [
    "import sys\n",
    "!{sys.executable} -m pip install pandas scikit-learn matplotlib seaborn\n",
    "\n",
    "import pandas as pd\n",
    "import numpy as np\n",
    "import matplotlib.pyplot as plt\n",
    "import seaborn as sns"
   ]
  },
  {
   "cell_type": "markdown",
   "metadata": {},
   "source": [
    "Then, we will load the datasets that we have produced from our JS application. I need to combine different years of data:"
   ]
  },
  {
   "cell_type": "code",
   "execution_count": 48,
   "metadata": {},
   "outputs": [],
   "source": [
    "years = ['2016', '2017', '2018', '2019', '2020', '2021']\n",
    "EnergyGeneration_All = pd.DataFrame()\n",
    "\n",
    "for x in years:\n",
    "    pathEnergy = '../data/genTypes/energy_generation_type_date' + x + '.json'\n",
    "    newDF = pd.io.json.read_json(pathEnergy).round()\n",
    "    EnergyGeneration_All = pd.concat([EnergyGeneration_All, newDF])\n",
    "\n",
    "EnergyGeneration_All.fillna(0, inplace=True)\n",
    "\n",
    "del(newDF, pathEnergy, x, years)"
   ]
  },
  {
   "cell_type": "markdown",
   "metadata": {},
   "source": [
    "From this dataframe we are only interested in the totals of renewable vs. non-renewable"
   ]
  },
  {
   "cell_type": "code",
   "execution_count": 49,
   "metadata": {},
   "outputs": [
    {
     "data": {
      "text/html": [
       "<div>\n",
       "<style scoped>\n",
       "    .dataframe tbody tr th:only-of-type {\n",
       "        vertical-align: middle;\n",
       "    }\n",
       "\n",
       "    .dataframe tbody tr th {\n",
       "        vertical-align: top;\n",
       "    }\n",
       "\n",
       "    .dataframe thead th {\n",
       "        text-align: right;\n",
       "    }\n",
       "</style>\n",
       "<table border=\"1\" class=\"dataframe\">\n",
       "  <thead>\n",
       "    <tr style=\"text-align: right;\">\n",
       "      <th></th>\n",
       "      <th>Renewable</th>\n",
       "      <th>Non_Renewable</th>\n",
       "    </tr>\n",
       "  </thead>\n",
       "  <tbody>\n",
       "    <tr>\n",
       "      <th>2016-01-01</th>\n",
       "      <td>253586.0</td>\n",
       "      <td>335401.0</td>\n",
       "    </tr>\n",
       "    <tr>\n",
       "      <th>2016-01-02</th>\n",
       "      <td>294759.0</td>\n",
       "      <td>357755.0</td>\n",
       "    </tr>\n",
       "    <tr>\n",
       "      <th>2016-01-03</th>\n",
       "      <td>361739.0</td>\n",
       "      <td>334133.0</td>\n",
       "    </tr>\n",
       "    <tr>\n",
       "      <th>2016-01-04</th>\n",
       "      <td>338825.0</td>\n",
       "      <td>367608.0</td>\n",
       "    </tr>\n",
       "    <tr>\n",
       "      <th>2016-01-05</th>\n",
       "      <td>395072.0</td>\n",
       "      <td>352461.0</td>\n",
       "    </tr>\n",
       "  </tbody>\n",
       "</table>\n",
       "</div>"
      ],
      "text/plain": [
       "            Renewable  Non_Renewable\n",
       "2016-01-01   253586.0       335401.0\n",
       "2016-01-02   294759.0       357755.0\n",
       "2016-01-03   361739.0       334133.0\n",
       "2016-01-04   338825.0       367608.0\n",
       "2016-01-05   395072.0       352461.0"
      ]
     },
     "execution_count": 49,
     "metadata": {},
     "output_type": "execute_result"
    }
   ],
   "source": [
    "\n",
    "\n",
    "energySummary = pd.DataFrame()\n",
    "renewableTypes = ['Hidráulica', 'Hidroeólica', 'Eólica', 'Solar fotovoltaica', 'Solar térmica', 'Otras renovables', 'Residuos renovables']\n",
    "\n",
    "energySummary['Renewable'] = EnergyGeneration_All[renewableTypes].sum(axis=1)\n",
    "energySummary['Non_Renewable'] = EnergyGeneration_All['Generación total'] - energySummary['Renewable']\n",
    "\n",
    "\n",
    "\n",
    "#del(EnergyGeneration_All)\n",
    "\n",
    "energySummary.head()"
   ]
  },
  {
   "cell_type": "code",
   "execution_count": 50,
   "metadata": {},
   "outputs": [
    {
     "data": {
      "text/html": [
       "<div>\n",
       "<style scoped>\n",
       "    .dataframe tbody tr th:only-of-type {\n",
       "        vertical-align: middle;\n",
       "    }\n",
       "\n",
       "    .dataframe tbody tr th {\n",
       "        vertical-align: top;\n",
       "    }\n",
       "\n",
       "    .dataframe thead th {\n",
       "        text-align: right;\n",
       "    }\n",
       "</style>\n",
       "<table border=\"1\" class=\"dataframe\">\n",
       "  <thead>\n",
       "    <tr style=\"text-align: right;\">\n",
       "      <th></th>\n",
       "      <th>Renewable</th>\n",
       "    </tr>\n",
       "  </thead>\n",
       "  <tbody>\n",
       "    <tr>\n",
       "      <th>2016-01-01</th>\n",
       "      <td>253586.0</td>\n",
       "    </tr>\n",
       "    <tr>\n",
       "      <th>2016-01-02</th>\n",
       "      <td>294759.0</td>\n",
       "    </tr>\n",
       "    <tr>\n",
       "      <th>2016-01-03</th>\n",
       "      <td>361739.0</td>\n",
       "    </tr>\n",
       "    <tr>\n",
       "      <th>2016-01-04</th>\n",
       "      <td>338825.0</td>\n",
       "    </tr>\n",
       "    <tr>\n",
       "      <th>2016-01-05</th>\n",
       "      <td>395072.0</td>\n",
       "    </tr>\n",
       "  </tbody>\n",
       "</table>\n",
       "</div>"
      ],
      "text/plain": [
       "            Renewable\n",
       "2016-01-01   253586.0\n",
       "2016-01-02   294759.0\n",
       "2016-01-03   361739.0\n",
       "2016-01-04   338825.0\n",
       "2016-01-05   395072.0"
      ]
     },
     "execution_count": 50,
     "metadata": {},
     "output_type": "execute_result"
    }
   ],
   "source": [
    "\n",
    "energySummary = pd.DataFrame()\n",
    "renewableTypes = ['Hidráulica', 'Hidroeólica', 'Eólica', 'Solar fotovoltaica', 'Solar térmica', 'Otras renovables', 'Residuos renovables']\n",
    "energySummary['Renewable'] = EnergyGeneration_All[renewableTypes].sum(axis=1)\n",
    "\n",
    "energySummary.head()"
   ]
  },
  {
   "cell_type": "markdown",
   "metadata": {},
   "source": [
    "On the other hand we will now import the prices of energy, also on a daily basis.\n",
    "The dates are in European form, in fact they're not even interpreted as dates. Let's convert them and set them as index, so that it looks the same as the other df:"
   ]
  },
  {
   "cell_type": "code",
   "execution_count": 17,
   "metadata": {},
   "outputs": [],
   "source": [
    "\n",
    "pathPrices = '../data/energy_price.csv'\n",
    "\n",
    "historyPrice = pd.read_csv(pathPrices, decimal=',')\n",
    "historyPrice['Fecha'] = pd.to_datetime(historyPrice['Fecha'], format='%d/%m/%Y')\n",
    "historyPrice.set_index('Fecha', inplace=True)\n",
    "\n",
    "historyPrice.head()\n",
    "\n",
    "del(pathPrices)"
   ]
  },
  {
   "cell_type": "markdown",
   "metadata": {},
   "source": [
    "Now it's time to load, also, the CO2 prices, another feature that may affect."
   ]
  },
  {
   "cell_type": "code",
   "execution_count": 18,
   "metadata": {},
   "outputs": [],
   "source": [
    "pathCarbonPrices = '../data/carbon_price.csv'\n",
    "\n",
    "carbonPrice = pd.read_csv(pathCarbonPrices, decimal=',')\n",
    "carbonPrice['Fecha'] = pd.to_datetime(carbonPrice['Fecha'], format='%d.%m.%Y')\n",
    "carbonPrice.set_index('Fecha', inplace=True)\n",
    "carbonPrice.head()\n",
    "\n",
    "del (pathCarbonPrices)"
   ]
  },
  {
   "cell_type": "markdown",
   "metadata": {},
   "source": [
    "Finally we will read a data that contains information on what has been the dominant type of energy."
   ]
  },
  {
   "cell_type": "code",
   "execution_count": 20,
   "metadata": {},
   "outputs": [],
   "source": [
    "pathDomTypes = '../data/dominantTypes/DomTypes_2021.csv'\n",
    "domTypePerHour = pd.read_csv(pathDomTypes, header=3)\n",
    "domTypePerHour['Dia']\n",
    "\n",
    "domTypePerHour['Dia'] = pd.to_datetime(domTypePerHour['Dia'], format='%d/%m/%y')\n",
    "domTypePerHour.set_index('Dia', inplace=True)\n",
    "\n",
    "domTypePerHour.head()\n",
    "del(pathDomTypes)"
   ]
  },
  {
   "cell_type": "markdown",
   "metadata": {},
   "source": [
    "I will now get the dominant type for energy of each day.\n"
   ]
  },
  {
   "cell_type": "code",
   "execution_count": 22,
   "metadata": {},
   "outputs": [],
   "source": [
    "from collections import Counter\n",
    "\n",
    "domTypeDailyRatio = pd.DataFrame(index=domTypePerHour.index)\n",
    "\n",
    "for Fecha, datos in domTypePerHour.iterrows():\n",
    "    recuento = domTypePerHour.loc[Fecha, :].value_counts()\n",
    "    #print(recuento)\n",
    "    for index, value in recuento.items():\n",
    "        domTypeDailyRatio.loc[Fecha, index] = value/24\n",
    "        if (index == '0'):\n",
    "            print(recuento)\n",
    "            print(index)\n",
    "            print(value)\n",
    "\n",
    "domTypeDailyRatio.fillna(0, inplace=True)\n",
    "del(value, index, recuento, Fecha, datos)\n"
   ]
  },
  {
   "cell_type": "markdown",
   "metadata": {},
   "source": [
    "Now we are ready to merge this data by using the dates as an index.\n",
    "This will yield only as a result the rows where the date is present for both dataframes."
   ]
  },
  {
   "cell_type": "code",
   "execution_count": 23,
   "metadata": {},
   "outputs": [
    {
     "data": {
      "text/html": [
       "<div>\n",
       "<style scoped>\n",
       "    .dataframe tbody tr th:only-of-type {\n",
       "        vertical-align: middle;\n",
       "    }\n",
       "\n",
       "    .dataframe tbody tr th {\n",
       "        vertical-align: top;\n",
       "    }\n",
       "\n",
       "    .dataframe thead th {\n",
       "        text-align: right;\n",
       "    }\n",
       "</style>\n",
       "<table border=\"1\" class=\"dataframe\">\n",
       "  <thead>\n",
       "    <tr style=\"text-align: right;\">\n",
       "      <th></th>\n",
       "      <th>Renewable</th>\n",
       "      <th>Non_Renewable</th>\n",
       "      <th>Energy price</th>\n",
       "      <th>CO2 ton price</th>\n",
       "      <th>HI</th>\n",
       "      <th>RE</th>\n",
       "      <th>BG</th>\n",
       "      <th>TCC</th>\n",
       "      <th>TER</th>\n",
       "      <th>MIP</th>\n",
       "      <th>year</th>\n",
       "    </tr>\n",
       "  </thead>\n",
       "  <tbody>\n",
       "    <tr>\n",
       "      <th>2021-01-04</th>\n",
       "      <td>338858.0</td>\n",
       "      <td>443010.0</td>\n",
       "      <td>59.85</td>\n",
       "      <td>33.69</td>\n",
       "      <td>0.416667</td>\n",
       "      <td>0.166667</td>\n",
       "      <td>0.416667</td>\n",
       "      <td>0.000000</td>\n",
       "      <td>0.000000</td>\n",
       "      <td>0.0</td>\n",
       "      <td>2021</td>\n",
       "    </tr>\n",
       "    <tr>\n",
       "      <th>2021-01-05</th>\n",
       "      <td>291895.0</td>\n",
       "      <td>436704.0</td>\n",
       "      <td>67.55</td>\n",
       "      <td>32.96</td>\n",
       "      <td>0.416667</td>\n",
       "      <td>0.166667</td>\n",
       "      <td>0.250000</td>\n",
       "      <td>0.083333</td>\n",
       "      <td>0.000000</td>\n",
       "      <td>0.0</td>\n",
       "      <td>2021</td>\n",
       "    </tr>\n",
       "    <tr>\n",
       "      <th>2021-01-06</th>\n",
       "      <td>273265.0</td>\n",
       "      <td>407474.0</td>\n",
       "      <td>70.60</td>\n",
       "      <td>33.63</td>\n",
       "      <td>0.666667</td>\n",
       "      <td>0.041667</td>\n",
       "      <td>0.208333</td>\n",
       "      <td>0.083333</td>\n",
       "      <td>0.000000</td>\n",
       "      <td>0.0</td>\n",
       "      <td>2021</td>\n",
       "    </tr>\n",
       "    <tr>\n",
       "      <th>2021-01-07</th>\n",
       "      <td>281307.0</td>\n",
       "      <td>486273.0</td>\n",
       "      <td>88.93</td>\n",
       "      <td>34.76</td>\n",
       "      <td>0.333333</td>\n",
       "      <td>0.166667</td>\n",
       "      <td>0.083333</td>\n",
       "      <td>0.041667</td>\n",
       "      <td>0.041667</td>\n",
       "      <td>0.0</td>\n",
       "      <td>2021</td>\n",
       "    </tr>\n",
       "    <tr>\n",
       "      <th>2021-01-08</th>\n",
       "      <td>393578.0</td>\n",
       "      <td>416164.0</td>\n",
       "      <td>94.99</td>\n",
       "      <td>34.92</td>\n",
       "      <td>0.750000</td>\n",
       "      <td>0.000000</td>\n",
       "      <td>0.083333</td>\n",
       "      <td>0.000000</td>\n",
       "      <td>0.166667</td>\n",
       "      <td>0.0</td>\n",
       "      <td>2021</td>\n",
       "    </tr>\n",
       "  </tbody>\n",
       "</table>\n",
       "</div>"
      ],
      "text/plain": [
       "            Renewable  Non_Renewable  Energy price  CO2 ton price        HI   \n",
       "2021-01-04   338858.0       443010.0         59.85          33.69  0.416667  \\\n",
       "2021-01-05   291895.0       436704.0         67.55          32.96  0.416667   \n",
       "2021-01-06   273265.0       407474.0         70.60          33.63  0.666667   \n",
       "2021-01-07   281307.0       486273.0         88.93          34.76  0.333333   \n",
       "2021-01-08   393578.0       416164.0         94.99          34.92  0.750000   \n",
       "\n",
       "                  RE        BG       TCC       TER  MIP  year  \n",
       "2021-01-04  0.166667  0.416667  0.000000  0.000000  0.0  2021  \n",
       "2021-01-05  0.166667  0.250000  0.083333  0.000000  0.0  2021  \n",
       "2021-01-06  0.041667  0.208333  0.083333  0.000000  0.0  2021  \n",
       "2021-01-07  0.166667  0.083333  0.041667  0.041667  0.0  2021  \n",
       "2021-01-08  0.000000  0.083333  0.000000  0.166667  0.0  2021  "
      ]
     },
     "execution_count": 23,
     "metadata": {},
     "output_type": "execute_result"
    }
   ],
   "source": [
    "AllSummary = energySummary\\\n",
    "    .merge(historyPrice['Precio'].rename('Energy price'), left_index=True, right_on='Fecha')\\\n",
    "    .merge(carbonPrice['Último'].rename('CO2 ton price'), left_index=True, right_index=True)\\\n",
    "    .merge(domTypeDailyRatio, left_index=True, right_index=True)\n",
    "AllSummary['year'] = AllSummary.index.to_series().dt.year\n",
    "AllSummary.head()"
   ]
  },
  {
   "cell_type": "markdown",
   "metadata": {},
   "source": []
  }
 ],
 "metadata": {
  "interpreter": {
   "hash": "2e3c1e8da6e821b0193601da5a0e541c0efda9704da45b6b820f5f4c317f2def"
  },
  "kernelspec": {
   "display_name": "Python 3.9.0 64-bit",
   "language": "python",
   "name": "python3"
  },
  "language_info": {
   "codemirror_mode": {
    "name": "ipython",
    "version": 3
   },
   "file_extension": ".py",
   "mimetype": "text/x-python",
   "name": "python",
   "nbconvert_exporter": "python",
   "pygments_lexer": "ipython3",
   "version": "3.11.3"
  },
  "orig_nbformat": 4
 },
 "nbformat": 4,
 "nbformat_minor": 2
}
