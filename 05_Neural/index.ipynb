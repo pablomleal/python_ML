{
 "cells": [
  {
   "attachments": {},
   "cell_type": "markdown",
   "metadata": {},
   "source": [
    "### Main objective of the analysis \n",
    "\n",
    "The analysis will be focused on practical examples of sequential neural networks using the library Keras for a multiclass, classification problem\n",
    "\n",
    "The dataset is based on determining whether a fetus is healthy or not, based on 21 different features. The data are humanly labeled with 3 possible outcomes (Healthy, Suspicious, Non-Healthy).\n",
    "Based on this supervised dataset, I will create different model variations and compare the accuracies between them. The objective is double:\n",
    "\n",
    "- To find out whether the increase in accuracy that Dense Neural Networks provide is worth the increased computational cost. In order to have a baseline against which to compare, I will create a \"traditional\" classifier using Random Forest.\n",
    "- To understand the importance of the hyperparameters used, i.e. which one is more influential when trying to predict.\n",
    "\n",
    "### Brief description of the data set, its attribute and outline of objectives\n",
    "\n",
    "#### Description of the dataset and its attributes\n",
    "\n",
    "The dataset I'm using is from Kaggle, a public dataset bank (https://www.kaggle.com/), and it is focused around determining if a fetus is healthy or not.\n",
    "\n",
    "It contains 21 features about the status of the fetus. The following description comes from the dataset itself:\n",
    "\n",
    "1. baseline value: Baseline Fetal Heart Rate (FHR)\n",
    "2. accelerations: Number of accelerations per second\n",
    "3. fetal_movement: Number of fetal movements per second\n",
    "4. uterine_contractions: Number of uterine contractions per second\n",
    "5. light_decelerations: Number of LDs per second\n",
    "6. severe_decelerations: Number of SDs per second\n",
    "7. prolongued_decelerations: Number of PDs per second\n",
    "8. abnormal_short_term_variability: Percentage of time with abnormal short term variability\n",
    "9. mean_value_of_short_term_variability: Mean value of short term variability\n",
    "10. percentage_of_time_with_abnormal_long_term_variability: Percentage of time with abnormal long term variability\n",
    "11. mean_value_of_short_term_variability: Mean value of short term variability\n",
    "12. histogram_width: Width of the histogram made using all values from a record\n",
    "13. histogram_min: Histogram minimum value\n",
    "14. histogram_max: Histogram maximum value\n",
    "15. histogram_number_of_peaks: Number of peaks in the exam histogram\n",
    "16. histogram_number_of_zeroes: Number of zeroes in the exam histogram\n",
    "17. histogram_mode: Hist mode\n",
    "18. histogram_mean: Hist mean\n",
    "19. histogram_median: Hist Median\n",
    "20. histogram_variance :Hist variance\n",
    "21. histogram_tendency: Histogram trend\n",
    "\n",
    "And finally we have our outcome variable, which is multiclass as mentioned.\n",
    "\n",
    "Y. fetal_health: 1 - Normal 2 - Suspect 3 - Pathological\n",
    "\n",
    "More information can be found on the specific datasheet link --> https://www.kaggle.com/datasets/andrewmvd/fetal-health-classification\n",
    "\n",
    "#### Outline of the project and objectives\n",
    "\n",
    "The phases of the project will be as follows:\n",
    "\n",
    "- Creation of a more traditional model (Random Forest Classifier) to use as a baseline and get its accuaracy.\n",
    "- Creation of three sequential Neural Network models.\n",
    "- Comparison of the goodness of each model (accuracy) and computational cost."
   ]
  },
  {
   "attachments": {},
   "cell_type": "markdown",
   "metadata": {},
   "source": [
    "To begin, I will import the necessary libraries as well as the dataset we will be working with.\n",
    "As mentioned, only the column fetal_health is the outcome. So that will be my Y and the rest of the dataframe will be my X (features)."
   ]
  },
  {
   "cell_type": "code",
   "execution_count": 1,
   "metadata": {},
   "outputs": [],
   "source": [
    "import pandas as pd\n",
    "import matplotlib.pyplot as plt\n",
    "import numpy as np\n",
    "\n",
    "from sklearn.model_selection import train_test_split\n",
    "from sklearn.preprocessing import StandardScaler\n",
    "from sklearn.metrics import confusion_matrix, precision_recall_curve, roc_auc_score, roc_curve, accuracy_score\n",
    "from sklearn.ensemble import RandomForestClassifier\n",
    "\n",
    "import seaborn as sns"
   ]
  },
  {
   "cell_type": "code",
   "execution_count": 2,
   "metadata": {},
   "outputs": [
    {
     "data": {
      "text/html": [
       "<div>\n",
       "<style scoped>\n",
       "    .dataframe tbody tr th:only-of-type {\n",
       "        vertical-align: middle;\n",
       "    }\n",
       "\n",
       "    .dataframe tbody tr th {\n",
       "        vertical-align: top;\n",
       "    }\n",
       "\n",
       "    .dataframe thead th {\n",
       "        text-align: right;\n",
       "    }\n",
       "</style>\n",
       "<table border=\"1\" class=\"dataframe\">\n",
       "  <thead>\n",
       "    <tr style=\"text-align: right;\">\n",
       "      <th></th>\n",
       "      <th>baseline value</th>\n",
       "      <th>accelerations</th>\n",
       "      <th>fetal_movement</th>\n",
       "      <th>uterine_contractions</th>\n",
       "      <th>light_decelerations</th>\n",
       "      <th>severe_decelerations</th>\n",
       "      <th>prolongued_decelerations</th>\n",
       "      <th>abnormal_short_term_variability</th>\n",
       "      <th>mean_value_of_short_term_variability</th>\n",
       "      <th>percentage_of_time_with_abnormal_long_term_variability</th>\n",
       "      <th>...</th>\n",
       "      <th>histogram_min</th>\n",
       "      <th>histogram_max</th>\n",
       "      <th>histogram_number_of_peaks</th>\n",
       "      <th>histogram_number_of_zeroes</th>\n",
       "      <th>histogram_mode</th>\n",
       "      <th>histogram_mean</th>\n",
       "      <th>histogram_median</th>\n",
       "      <th>histogram_variance</th>\n",
       "      <th>histogram_tendency</th>\n",
       "      <th>fetal_health</th>\n",
       "    </tr>\n",
       "  </thead>\n",
       "  <tbody>\n",
       "    <tr>\n",
       "      <th>0</th>\n",
       "      <td>120.0</td>\n",
       "      <td>0.000</td>\n",
       "      <td>0.0</td>\n",
       "      <td>0.000</td>\n",
       "      <td>0.000</td>\n",
       "      <td>0.0</td>\n",
       "      <td>0.0</td>\n",
       "      <td>73.0</td>\n",
       "      <td>0.5</td>\n",
       "      <td>43.0</td>\n",
       "      <td>...</td>\n",
       "      <td>62.0</td>\n",
       "      <td>126.0</td>\n",
       "      <td>2.0</td>\n",
       "      <td>0.0</td>\n",
       "      <td>120.0</td>\n",
       "      <td>137.0</td>\n",
       "      <td>121.0</td>\n",
       "      <td>73.0</td>\n",
       "      <td>1.0</td>\n",
       "      <td>2.0</td>\n",
       "    </tr>\n",
       "    <tr>\n",
       "      <th>1</th>\n",
       "      <td>132.0</td>\n",
       "      <td>0.006</td>\n",
       "      <td>0.0</td>\n",
       "      <td>0.006</td>\n",
       "      <td>0.003</td>\n",
       "      <td>0.0</td>\n",
       "      <td>0.0</td>\n",
       "      <td>17.0</td>\n",
       "      <td>2.1</td>\n",
       "      <td>0.0</td>\n",
       "      <td>...</td>\n",
       "      <td>68.0</td>\n",
       "      <td>198.0</td>\n",
       "      <td>6.0</td>\n",
       "      <td>1.0</td>\n",
       "      <td>141.0</td>\n",
       "      <td>136.0</td>\n",
       "      <td>140.0</td>\n",
       "      <td>12.0</td>\n",
       "      <td>0.0</td>\n",
       "      <td>1.0</td>\n",
       "    </tr>\n",
       "    <tr>\n",
       "      <th>2</th>\n",
       "      <td>133.0</td>\n",
       "      <td>0.003</td>\n",
       "      <td>0.0</td>\n",
       "      <td>0.008</td>\n",
       "      <td>0.003</td>\n",
       "      <td>0.0</td>\n",
       "      <td>0.0</td>\n",
       "      <td>16.0</td>\n",
       "      <td>2.1</td>\n",
       "      <td>0.0</td>\n",
       "      <td>...</td>\n",
       "      <td>68.0</td>\n",
       "      <td>198.0</td>\n",
       "      <td>5.0</td>\n",
       "      <td>1.0</td>\n",
       "      <td>141.0</td>\n",
       "      <td>135.0</td>\n",
       "      <td>138.0</td>\n",
       "      <td>13.0</td>\n",
       "      <td>0.0</td>\n",
       "      <td>1.0</td>\n",
       "    </tr>\n",
       "    <tr>\n",
       "      <th>3</th>\n",
       "      <td>134.0</td>\n",
       "      <td>0.003</td>\n",
       "      <td>0.0</td>\n",
       "      <td>0.008</td>\n",
       "      <td>0.003</td>\n",
       "      <td>0.0</td>\n",
       "      <td>0.0</td>\n",
       "      <td>16.0</td>\n",
       "      <td>2.4</td>\n",
       "      <td>0.0</td>\n",
       "      <td>...</td>\n",
       "      <td>53.0</td>\n",
       "      <td>170.0</td>\n",
       "      <td>11.0</td>\n",
       "      <td>0.0</td>\n",
       "      <td>137.0</td>\n",
       "      <td>134.0</td>\n",
       "      <td>137.0</td>\n",
       "      <td>13.0</td>\n",
       "      <td>1.0</td>\n",
       "      <td>1.0</td>\n",
       "    </tr>\n",
       "    <tr>\n",
       "      <th>4</th>\n",
       "      <td>132.0</td>\n",
       "      <td>0.007</td>\n",
       "      <td>0.0</td>\n",
       "      <td>0.008</td>\n",
       "      <td>0.000</td>\n",
       "      <td>0.0</td>\n",
       "      <td>0.0</td>\n",
       "      <td>16.0</td>\n",
       "      <td>2.4</td>\n",
       "      <td>0.0</td>\n",
       "      <td>...</td>\n",
       "      <td>53.0</td>\n",
       "      <td>170.0</td>\n",
       "      <td>9.0</td>\n",
       "      <td>0.0</td>\n",
       "      <td>137.0</td>\n",
       "      <td>136.0</td>\n",
       "      <td>138.0</td>\n",
       "      <td>11.0</td>\n",
       "      <td>1.0</td>\n",
       "      <td>1.0</td>\n",
       "    </tr>\n",
       "  </tbody>\n",
       "</table>\n",
       "<p>5 rows × 22 columns</p>\n",
       "</div>"
      ],
      "text/plain": [
       "   baseline value  accelerations  fetal_movement  uterine_contractions  \\\n",
       "0           120.0          0.000             0.0                 0.000   \n",
       "1           132.0          0.006             0.0                 0.006   \n",
       "2           133.0          0.003             0.0                 0.008   \n",
       "3           134.0          0.003             0.0                 0.008   \n",
       "4           132.0          0.007             0.0                 0.008   \n",
       "\n",
       "   light_decelerations  severe_decelerations  prolongued_decelerations  \\\n",
       "0                0.000                   0.0                       0.0   \n",
       "1                0.003                   0.0                       0.0   \n",
       "2                0.003                   0.0                       0.0   \n",
       "3                0.003                   0.0                       0.0   \n",
       "4                0.000                   0.0                       0.0   \n",
       "\n",
       "   abnormal_short_term_variability  mean_value_of_short_term_variability  \\\n",
       "0                             73.0                                   0.5   \n",
       "1                             17.0                                   2.1   \n",
       "2                             16.0                                   2.1   \n",
       "3                             16.0                                   2.4   \n",
       "4                             16.0                                   2.4   \n",
       "\n",
       "   percentage_of_time_with_abnormal_long_term_variability  ...  histogram_min  \\\n",
       "0                                               43.0       ...           62.0   \n",
       "1                                                0.0       ...           68.0   \n",
       "2                                                0.0       ...           68.0   \n",
       "3                                                0.0       ...           53.0   \n",
       "4                                                0.0       ...           53.0   \n",
       "\n",
       "   histogram_max  histogram_number_of_peaks  histogram_number_of_zeroes  \\\n",
       "0          126.0                        2.0                         0.0   \n",
       "1          198.0                        6.0                         1.0   \n",
       "2          198.0                        5.0                         1.0   \n",
       "3          170.0                       11.0                         0.0   \n",
       "4          170.0                        9.0                         0.0   \n",
       "\n",
       "   histogram_mode  histogram_mean  histogram_median  histogram_variance  \\\n",
       "0           120.0           137.0             121.0                73.0   \n",
       "1           141.0           136.0             140.0                12.0   \n",
       "2           141.0           135.0             138.0                13.0   \n",
       "3           137.0           134.0             137.0                13.0   \n",
       "4           137.0           136.0             138.0                11.0   \n",
       "\n",
       "   histogram_tendency  fetal_health  \n",
       "0                 1.0           2.0  \n",
       "1                 0.0           1.0  \n",
       "2                 0.0           1.0  \n",
       "3                 1.0           1.0  \n",
       "4                 1.0           1.0  \n",
       "\n",
       "[5 rows x 22 columns]"
      ]
     },
     "execution_count": 2,
     "metadata": {},
     "output_type": "execute_result"
    }
   ],
   "source": [
    "allData = pd.read_csv('fetal_health.csv')\n",
    "\n",
    "y=allData['fetal_health']\n",
    "X=allData.drop('fetal_health', axis=1)\n",
    "\n",
    "allData.head(5)"
   ]
  },
  {
   "attachments": {},
   "cell_type": "markdown",
   "metadata": {},
   "source": [
    "The shape of our dataset is 2126 observations and 22 columns (21 features plus our outcome).\n"
   ]
  },
  {
   "cell_type": "code",
   "execution_count": 3,
   "metadata": {},
   "outputs": [
    {
     "data": {
      "text/plain": [
       "(2126, 22)"
      ]
     },
     "execution_count": 3,
     "metadata": {},
     "output_type": "execute_result"
    }
   ],
   "source": [
    "allData.shape"
   ]
  },
  {
   "attachments": {},
   "cell_type": "markdown",
   "metadata": {},
   "source": [
    "### Exploratory Data Analysis\n",
    "\n",
    "This information is actually available in the dataset website, however I will draw the conclusions in the same way.\n",
    "\n",
    "We can see that the data are all of type float."
   ]
  },
  {
   "cell_type": "code",
   "execution_count": 4,
   "metadata": {},
   "outputs": [
    {
     "data": {
      "text/plain": [
       "float64    22\n",
       "dtype: int64"
      ]
     },
     "execution_count": 4,
     "metadata": {},
     "output_type": "execute_result"
    }
   ],
   "source": [
    "allData.dtypes.value_counts()"
   ]
  },
  {
   "attachments": {},
   "cell_type": "markdown",
   "metadata": {},
   "source": [
    "There are no empty values at all."
   ]
  },
  {
   "cell_type": "code",
   "execution_count": 5,
   "metadata": {},
   "outputs": [
    {
     "data": {
      "text/plain": [
       "(array([False]), array([46772], dtype=int64))"
      ]
     },
     "execution_count": 5,
     "metadata": {},
     "output_type": "execute_result"
    }
   ],
   "source": [
    "np.unique(allData.isnull().values, return_counts=True)\n"
   ]
  },
  {
   "attachments": {},
   "cell_type": "markdown",
   "metadata": {},
   "source": [
    "The command Describe tells us the following.\n",
    "\n",
    "- Max-min values depend greatly on the feature, therefore, normalization may be needed down the road.\n",
    "- As stated before, there are no empty values (count is 2126 for all features)."
   ]
  },
  {
   "cell_type": "code",
   "execution_count": 6,
   "metadata": {},
   "outputs": [
    {
     "data": {
      "text/html": [
       "<div>\n",
       "<style scoped>\n",
       "    .dataframe tbody tr th:only-of-type {\n",
       "        vertical-align: middle;\n",
       "    }\n",
       "\n",
       "    .dataframe tbody tr th {\n",
       "        vertical-align: top;\n",
       "    }\n",
       "\n",
       "    .dataframe thead th {\n",
       "        text-align: right;\n",
       "    }\n",
       "</style>\n",
       "<table border=\"1\" class=\"dataframe\">\n",
       "  <thead>\n",
       "    <tr style=\"text-align: right;\">\n",
       "      <th></th>\n",
       "      <th>baseline value</th>\n",
       "      <th>accelerations</th>\n",
       "      <th>fetal_movement</th>\n",
       "      <th>uterine_contractions</th>\n",
       "      <th>light_decelerations</th>\n",
       "      <th>severe_decelerations</th>\n",
       "      <th>prolongued_decelerations</th>\n",
       "      <th>abnormal_short_term_variability</th>\n",
       "      <th>mean_value_of_short_term_variability</th>\n",
       "      <th>percentage_of_time_with_abnormal_long_term_variability</th>\n",
       "      <th>...</th>\n",
       "      <th>histogram_min</th>\n",
       "      <th>histogram_max</th>\n",
       "      <th>histogram_number_of_peaks</th>\n",
       "      <th>histogram_number_of_zeroes</th>\n",
       "      <th>histogram_mode</th>\n",
       "      <th>histogram_mean</th>\n",
       "      <th>histogram_median</th>\n",
       "      <th>histogram_variance</th>\n",
       "      <th>histogram_tendency</th>\n",
       "      <th>fetal_health</th>\n",
       "    </tr>\n",
       "  </thead>\n",
       "  <tbody>\n",
       "    <tr>\n",
       "      <th>count</th>\n",
       "      <td>2126.000000</td>\n",
       "      <td>2126.000000</td>\n",
       "      <td>2126.000000</td>\n",
       "      <td>2126.000000</td>\n",
       "      <td>2126.000000</td>\n",
       "      <td>2126.000000</td>\n",
       "      <td>2126.000000</td>\n",
       "      <td>2126.000000</td>\n",
       "      <td>2126.000000</td>\n",
       "      <td>2126.00000</td>\n",
       "      <td>...</td>\n",
       "      <td>2126.000000</td>\n",
       "      <td>2126.000000</td>\n",
       "      <td>2126.000000</td>\n",
       "      <td>2126.000000</td>\n",
       "      <td>2126.000000</td>\n",
       "      <td>2126.000000</td>\n",
       "      <td>2126.000000</td>\n",
       "      <td>2126.000000</td>\n",
       "      <td>2126.000000</td>\n",
       "      <td>2126.000000</td>\n",
       "    </tr>\n",
       "    <tr>\n",
       "      <th>mean</th>\n",
       "      <td>133.303857</td>\n",
       "      <td>0.003178</td>\n",
       "      <td>0.009481</td>\n",
       "      <td>0.004366</td>\n",
       "      <td>0.001889</td>\n",
       "      <td>0.000003</td>\n",
       "      <td>0.000159</td>\n",
       "      <td>46.990122</td>\n",
       "      <td>1.332785</td>\n",
       "      <td>9.84666</td>\n",
       "      <td>...</td>\n",
       "      <td>93.579492</td>\n",
       "      <td>164.025400</td>\n",
       "      <td>4.068203</td>\n",
       "      <td>0.323612</td>\n",
       "      <td>137.452023</td>\n",
       "      <td>134.610536</td>\n",
       "      <td>138.090310</td>\n",
       "      <td>18.808090</td>\n",
       "      <td>0.320320</td>\n",
       "      <td>1.304327</td>\n",
       "    </tr>\n",
       "    <tr>\n",
       "      <th>std</th>\n",
       "      <td>9.840844</td>\n",
       "      <td>0.003866</td>\n",
       "      <td>0.046666</td>\n",
       "      <td>0.002946</td>\n",
       "      <td>0.002960</td>\n",
       "      <td>0.000057</td>\n",
       "      <td>0.000590</td>\n",
       "      <td>17.192814</td>\n",
       "      <td>0.883241</td>\n",
       "      <td>18.39688</td>\n",
       "      <td>...</td>\n",
       "      <td>29.560212</td>\n",
       "      <td>17.944183</td>\n",
       "      <td>2.949386</td>\n",
       "      <td>0.706059</td>\n",
       "      <td>16.381289</td>\n",
       "      <td>15.593596</td>\n",
       "      <td>14.466589</td>\n",
       "      <td>28.977636</td>\n",
       "      <td>0.610829</td>\n",
       "      <td>0.614377</td>\n",
       "    </tr>\n",
       "    <tr>\n",
       "      <th>min</th>\n",
       "      <td>106.000000</td>\n",
       "      <td>0.000000</td>\n",
       "      <td>0.000000</td>\n",
       "      <td>0.000000</td>\n",
       "      <td>0.000000</td>\n",
       "      <td>0.000000</td>\n",
       "      <td>0.000000</td>\n",
       "      <td>12.000000</td>\n",
       "      <td>0.200000</td>\n",
       "      <td>0.00000</td>\n",
       "      <td>...</td>\n",
       "      <td>50.000000</td>\n",
       "      <td>122.000000</td>\n",
       "      <td>0.000000</td>\n",
       "      <td>0.000000</td>\n",
       "      <td>60.000000</td>\n",
       "      <td>73.000000</td>\n",
       "      <td>77.000000</td>\n",
       "      <td>0.000000</td>\n",
       "      <td>-1.000000</td>\n",
       "      <td>1.000000</td>\n",
       "    </tr>\n",
       "    <tr>\n",
       "      <th>25%</th>\n",
       "      <td>126.000000</td>\n",
       "      <td>0.000000</td>\n",
       "      <td>0.000000</td>\n",
       "      <td>0.002000</td>\n",
       "      <td>0.000000</td>\n",
       "      <td>0.000000</td>\n",
       "      <td>0.000000</td>\n",
       "      <td>32.000000</td>\n",
       "      <td>0.700000</td>\n",
       "      <td>0.00000</td>\n",
       "      <td>...</td>\n",
       "      <td>67.000000</td>\n",
       "      <td>152.000000</td>\n",
       "      <td>2.000000</td>\n",
       "      <td>0.000000</td>\n",
       "      <td>129.000000</td>\n",
       "      <td>125.000000</td>\n",
       "      <td>129.000000</td>\n",
       "      <td>2.000000</td>\n",
       "      <td>0.000000</td>\n",
       "      <td>1.000000</td>\n",
       "    </tr>\n",
       "    <tr>\n",
       "      <th>50%</th>\n",
       "      <td>133.000000</td>\n",
       "      <td>0.002000</td>\n",
       "      <td>0.000000</td>\n",
       "      <td>0.004000</td>\n",
       "      <td>0.000000</td>\n",
       "      <td>0.000000</td>\n",
       "      <td>0.000000</td>\n",
       "      <td>49.000000</td>\n",
       "      <td>1.200000</td>\n",
       "      <td>0.00000</td>\n",
       "      <td>...</td>\n",
       "      <td>93.000000</td>\n",
       "      <td>162.000000</td>\n",
       "      <td>3.000000</td>\n",
       "      <td>0.000000</td>\n",
       "      <td>139.000000</td>\n",
       "      <td>136.000000</td>\n",
       "      <td>139.000000</td>\n",
       "      <td>7.000000</td>\n",
       "      <td>0.000000</td>\n",
       "      <td>1.000000</td>\n",
       "    </tr>\n",
       "    <tr>\n",
       "      <th>75%</th>\n",
       "      <td>140.000000</td>\n",
       "      <td>0.006000</td>\n",
       "      <td>0.003000</td>\n",
       "      <td>0.007000</td>\n",
       "      <td>0.003000</td>\n",
       "      <td>0.000000</td>\n",
       "      <td>0.000000</td>\n",
       "      <td>61.000000</td>\n",
       "      <td>1.700000</td>\n",
       "      <td>11.00000</td>\n",
       "      <td>...</td>\n",
       "      <td>120.000000</td>\n",
       "      <td>174.000000</td>\n",
       "      <td>6.000000</td>\n",
       "      <td>0.000000</td>\n",
       "      <td>148.000000</td>\n",
       "      <td>145.000000</td>\n",
       "      <td>148.000000</td>\n",
       "      <td>24.000000</td>\n",
       "      <td>1.000000</td>\n",
       "      <td>1.000000</td>\n",
       "    </tr>\n",
       "    <tr>\n",
       "      <th>max</th>\n",
       "      <td>160.000000</td>\n",
       "      <td>0.019000</td>\n",
       "      <td>0.481000</td>\n",
       "      <td>0.015000</td>\n",
       "      <td>0.015000</td>\n",
       "      <td>0.001000</td>\n",
       "      <td>0.005000</td>\n",
       "      <td>87.000000</td>\n",
       "      <td>7.000000</td>\n",
       "      <td>91.00000</td>\n",
       "      <td>...</td>\n",
       "      <td>159.000000</td>\n",
       "      <td>238.000000</td>\n",
       "      <td>18.000000</td>\n",
       "      <td>10.000000</td>\n",
       "      <td>187.000000</td>\n",
       "      <td>182.000000</td>\n",
       "      <td>186.000000</td>\n",
       "      <td>269.000000</td>\n",
       "      <td>1.000000</td>\n",
       "      <td>3.000000</td>\n",
       "    </tr>\n",
       "  </tbody>\n",
       "</table>\n",
       "<p>8 rows × 22 columns</p>\n",
       "</div>"
      ],
      "text/plain": [
       "       baseline value  accelerations  fetal_movement  uterine_contractions  \\\n",
       "count     2126.000000    2126.000000     2126.000000           2126.000000   \n",
       "mean       133.303857       0.003178        0.009481              0.004366   \n",
       "std          9.840844       0.003866        0.046666              0.002946   \n",
       "min        106.000000       0.000000        0.000000              0.000000   \n",
       "25%        126.000000       0.000000        0.000000              0.002000   \n",
       "50%        133.000000       0.002000        0.000000              0.004000   \n",
       "75%        140.000000       0.006000        0.003000              0.007000   \n",
       "max        160.000000       0.019000        0.481000              0.015000   \n",
       "\n",
       "       light_decelerations  severe_decelerations  prolongued_decelerations  \\\n",
       "count          2126.000000           2126.000000               2126.000000   \n",
       "mean              0.001889              0.000003                  0.000159   \n",
       "std               0.002960              0.000057                  0.000590   \n",
       "min               0.000000              0.000000                  0.000000   \n",
       "25%               0.000000              0.000000                  0.000000   \n",
       "50%               0.000000              0.000000                  0.000000   \n",
       "75%               0.003000              0.000000                  0.000000   \n",
       "max               0.015000              0.001000                  0.005000   \n",
       "\n",
       "       abnormal_short_term_variability  mean_value_of_short_term_variability  \\\n",
       "count                      2126.000000                           2126.000000   \n",
       "mean                         46.990122                              1.332785   \n",
       "std                          17.192814                              0.883241   \n",
       "min                          12.000000                              0.200000   \n",
       "25%                          32.000000                              0.700000   \n",
       "50%                          49.000000                              1.200000   \n",
       "75%                          61.000000                              1.700000   \n",
       "max                          87.000000                              7.000000   \n",
       "\n",
       "       percentage_of_time_with_abnormal_long_term_variability  ...  \\\n",
       "count                                         2126.00000       ...   \n",
       "mean                                             9.84666       ...   \n",
       "std                                             18.39688       ...   \n",
       "min                                              0.00000       ...   \n",
       "25%                                              0.00000       ...   \n",
       "50%                                              0.00000       ...   \n",
       "75%                                             11.00000       ...   \n",
       "max                                             91.00000       ...   \n",
       "\n",
       "       histogram_min  histogram_max  histogram_number_of_peaks  \\\n",
       "count    2126.000000    2126.000000                2126.000000   \n",
       "mean       93.579492     164.025400                   4.068203   \n",
       "std        29.560212      17.944183                   2.949386   \n",
       "min        50.000000     122.000000                   0.000000   \n",
       "25%        67.000000     152.000000                   2.000000   \n",
       "50%        93.000000     162.000000                   3.000000   \n",
       "75%       120.000000     174.000000                   6.000000   \n",
       "max       159.000000     238.000000                  18.000000   \n",
       "\n",
       "       histogram_number_of_zeroes  histogram_mode  histogram_mean  \\\n",
       "count                 2126.000000     2126.000000     2126.000000   \n",
       "mean                     0.323612      137.452023      134.610536   \n",
       "std                      0.706059       16.381289       15.593596   \n",
       "min                      0.000000       60.000000       73.000000   \n",
       "25%                      0.000000      129.000000      125.000000   \n",
       "50%                      0.000000      139.000000      136.000000   \n",
       "75%                      0.000000      148.000000      145.000000   \n",
       "max                     10.000000      187.000000      182.000000   \n",
       "\n",
       "       histogram_median  histogram_variance  histogram_tendency  fetal_health  \n",
       "count       2126.000000         2126.000000         2126.000000   2126.000000  \n",
       "mean         138.090310           18.808090            0.320320      1.304327  \n",
       "std           14.466589           28.977636            0.610829      0.614377  \n",
       "min           77.000000            0.000000           -1.000000      1.000000  \n",
       "25%          129.000000            2.000000            0.000000      1.000000  \n",
       "50%          139.000000            7.000000            0.000000      1.000000  \n",
       "75%          148.000000           24.000000            1.000000      1.000000  \n",
       "max          186.000000          269.000000            1.000000      3.000000  \n",
       "\n",
       "[8 rows x 22 columns]"
      ]
     },
     "execution_count": 6,
     "metadata": {},
     "output_type": "execute_result"
    }
   ],
   "source": [
    "allData.describe()"
   ]
  },
  {
   "attachments": {},
   "cell_type": "markdown",
   "metadata": {},
   "source": [
    "Finally, let's ensure that our outcome variable does have the values that we need.\n",
    "Value Counts are 1655 healthy fetus, 295 suspected  and 176 pathological.\n",
    "As happens in other health project, typically we will have more normal cases than affected ones. So we will have to take this into account with the success measurement. Basically the implication is that we need to be careful not to take the accuracy as the master parameter, as it does not indicate the reliability of the method alone."
   ]
  },
  {
   "cell_type": "code",
   "execution_count": 7,
   "metadata": {},
   "outputs": [
    {
     "data": {
      "text/plain": [
       "1.0    1655\n",
       "2.0     295\n",
       "3.0     176\n",
       "Name: fetal_health, dtype: int64"
      ]
     },
     "execution_count": 7,
     "metadata": {},
     "output_type": "execute_result"
    }
   ],
   "source": [
    "allData['fetal_health'].value_counts()"
   ]
  },
  {
   "attachments": {},
   "cell_type": "markdown",
   "metadata": {},
   "source": [
    "I will now import the libraries needed for it (SKLearn and Pandas).\n",
    "Then I will create subsets (train and test, the test subset being 30% of the full set).\n",
    "\n",
    "If we inspect the size of the Test batch, we see it's 638 observations (30% of the 2126 initial observations in the dataset)."
   ]
  },
  {
   "cell_type": "code",
   "execution_count": 8,
   "metadata": {},
   "outputs": [
    {
     "data": {
      "text/html": [
       "<div>\n",
       "<style scoped>\n",
       "    .dataframe tbody tr th:only-of-type {\n",
       "        vertical-align: middle;\n",
       "    }\n",
       "\n",
       "    .dataframe tbody tr th {\n",
       "        vertical-align: top;\n",
       "    }\n",
       "\n",
       "    .dataframe thead th {\n",
       "        text-align: right;\n",
       "    }\n",
       "</style>\n",
       "<table border=\"1\" class=\"dataframe\">\n",
       "  <thead>\n",
       "    <tr style=\"text-align: right;\">\n",
       "      <th></th>\n",
       "      <th>baseline value</th>\n",
       "      <th>accelerations</th>\n",
       "      <th>fetal_movement</th>\n",
       "      <th>uterine_contractions</th>\n",
       "      <th>light_decelerations</th>\n",
       "      <th>severe_decelerations</th>\n",
       "      <th>prolongued_decelerations</th>\n",
       "      <th>abnormal_short_term_variability</th>\n",
       "      <th>mean_value_of_short_term_variability</th>\n",
       "      <th>percentage_of_time_with_abnormal_long_term_variability</th>\n",
       "      <th>...</th>\n",
       "      <th>histogram_width</th>\n",
       "      <th>histogram_min</th>\n",
       "      <th>histogram_max</th>\n",
       "      <th>histogram_number_of_peaks</th>\n",
       "      <th>histogram_number_of_zeroes</th>\n",
       "      <th>histogram_mode</th>\n",
       "      <th>histogram_mean</th>\n",
       "      <th>histogram_median</th>\n",
       "      <th>histogram_variance</th>\n",
       "      <th>histogram_tendency</th>\n",
       "    </tr>\n",
       "  </thead>\n",
       "  <tbody>\n",
       "    <tr>\n",
       "      <th>961</th>\n",
       "      <td>133.0</td>\n",
       "      <td>0.000</td>\n",
       "      <td>0.000</td>\n",
       "      <td>0.007</td>\n",
       "      <td>0.003</td>\n",
       "      <td>0.0</td>\n",
       "      <td>0.0</td>\n",
       "      <td>35.0</td>\n",
       "      <td>1.3</td>\n",
       "      <td>4.0</td>\n",
       "      <td>...</td>\n",
       "      <td>90.0</td>\n",
       "      <td>67.0</td>\n",
       "      <td>157.0</td>\n",
       "      <td>7.0</td>\n",
       "      <td>0.0</td>\n",
       "      <td>139.0</td>\n",
       "      <td>135.0</td>\n",
       "      <td>139.0</td>\n",
       "      <td>16.0</td>\n",
       "      <td>1.0</td>\n",
       "    </tr>\n",
       "    <tr>\n",
       "      <th>2096</th>\n",
       "      <td>133.0</td>\n",
       "      <td>0.000</td>\n",
       "      <td>0.000</td>\n",
       "      <td>0.007</td>\n",
       "      <td>0.000</td>\n",
       "      <td>0.0</td>\n",
       "      <td>0.0</td>\n",
       "      <td>75.0</td>\n",
       "      <td>0.4</td>\n",
       "      <td>15.0</td>\n",
       "      <td>...</td>\n",
       "      <td>26.0</td>\n",
       "      <td>129.0</td>\n",
       "      <td>155.0</td>\n",
       "      <td>2.0</td>\n",
       "      <td>0.0</td>\n",
       "      <td>136.0</td>\n",
       "      <td>137.0</td>\n",
       "      <td>139.0</td>\n",
       "      <td>1.0</td>\n",
       "      <td>0.0</td>\n",
       "    </tr>\n",
       "    <tr>\n",
       "      <th>870</th>\n",
       "      <td>136.0</td>\n",
       "      <td>0.008</td>\n",
       "      <td>0.000</td>\n",
       "      <td>0.007</td>\n",
       "      <td>0.000</td>\n",
       "      <td>0.0</td>\n",
       "      <td>0.0</td>\n",
       "      <td>42.0</td>\n",
       "      <td>0.7</td>\n",
       "      <td>20.0</td>\n",
       "      <td>...</td>\n",
       "      <td>38.0</td>\n",
       "      <td>120.0</td>\n",
       "      <td>158.0</td>\n",
       "      <td>2.0</td>\n",
       "      <td>1.0</td>\n",
       "      <td>141.0</td>\n",
       "      <td>143.0</td>\n",
       "      <td>144.0</td>\n",
       "      <td>3.0</td>\n",
       "      <td>0.0</td>\n",
       "    </tr>\n",
       "    <tr>\n",
       "      <th>792</th>\n",
       "      <td>146.0</td>\n",
       "      <td>0.000</td>\n",
       "      <td>0.000</td>\n",
       "      <td>0.005</td>\n",
       "      <td>0.001</td>\n",
       "      <td>0.0</td>\n",
       "      <td>0.0</td>\n",
       "      <td>55.0</td>\n",
       "      <td>0.7</td>\n",
       "      <td>32.0</td>\n",
       "      <td>...</td>\n",
       "      <td>72.0</td>\n",
       "      <td>93.0</td>\n",
       "      <td>165.0</td>\n",
       "      <td>4.0</td>\n",
       "      <td>0.0</td>\n",
       "      <td>150.0</td>\n",
       "      <td>147.0</td>\n",
       "      <td>150.0</td>\n",
       "      <td>6.0</td>\n",
       "      <td>1.0</td>\n",
       "    </tr>\n",
       "    <tr>\n",
       "      <th>351</th>\n",
       "      <td>140.0</td>\n",
       "      <td>0.000</td>\n",
       "      <td>0.019</td>\n",
       "      <td>0.000</td>\n",
       "      <td>0.000</td>\n",
       "      <td>0.0</td>\n",
       "      <td>0.0</td>\n",
       "      <td>77.0</td>\n",
       "      <td>0.2</td>\n",
       "      <td>82.0</td>\n",
       "      <td>...</td>\n",
       "      <td>8.0</td>\n",
       "      <td>136.0</td>\n",
       "      <td>144.0</td>\n",
       "      <td>1.0</td>\n",
       "      <td>0.0</td>\n",
       "      <td>141.0</td>\n",
       "      <td>140.0</td>\n",
       "      <td>142.0</td>\n",
       "      <td>0.0</td>\n",
       "      <td>0.0</td>\n",
       "    </tr>\n",
       "    <tr>\n",
       "      <th>...</th>\n",
       "      <td>...</td>\n",
       "      <td>...</td>\n",
       "      <td>...</td>\n",
       "      <td>...</td>\n",
       "      <td>...</td>\n",
       "      <td>...</td>\n",
       "      <td>...</td>\n",
       "      <td>...</td>\n",
       "      <td>...</td>\n",
       "      <td>...</td>\n",
       "      <td>...</td>\n",
       "      <td>...</td>\n",
       "      <td>...</td>\n",
       "      <td>...</td>\n",
       "      <td>...</td>\n",
       "      <td>...</td>\n",
       "      <td>...</td>\n",
       "      <td>...</td>\n",
       "      <td>...</td>\n",
       "      <td>...</td>\n",
       "      <td>...</td>\n",
       "    </tr>\n",
       "    <tr>\n",
       "      <th>1315</th>\n",
       "      <td>125.0</td>\n",
       "      <td>0.004</td>\n",
       "      <td>0.012</td>\n",
       "      <td>0.005</td>\n",
       "      <td>0.006</td>\n",
       "      <td>0.0</td>\n",
       "      <td>0.0</td>\n",
       "      <td>23.0</td>\n",
       "      <td>2.2</td>\n",
       "      <td>0.0</td>\n",
       "      <td>...</td>\n",
       "      <td>125.0</td>\n",
       "      <td>53.0</td>\n",
       "      <td>178.0</td>\n",
       "      <td>8.0</td>\n",
       "      <td>0.0</td>\n",
       "      <td>143.0</td>\n",
       "      <td>122.0</td>\n",
       "      <td>131.0</td>\n",
       "      <td>92.0</td>\n",
       "      <td>0.0</td>\n",
       "    </tr>\n",
       "    <tr>\n",
       "      <th>1270</th>\n",
       "      <td>119.0</td>\n",
       "      <td>0.000</td>\n",
       "      <td>0.000</td>\n",
       "      <td>0.007</td>\n",
       "      <td>0.000</td>\n",
       "      <td>0.0</td>\n",
       "      <td>0.0</td>\n",
       "      <td>27.0</td>\n",
       "      <td>1.2</td>\n",
       "      <td>0.0</td>\n",
       "      <td>...</td>\n",
       "      <td>37.0</td>\n",
       "      <td>109.0</td>\n",
       "      <td>146.0</td>\n",
       "      <td>1.0</td>\n",
       "      <td>0.0</td>\n",
       "      <td>120.0</td>\n",
       "      <td>120.0</td>\n",
       "      <td>121.0</td>\n",
       "      <td>1.0</td>\n",
       "      <td>-1.0</td>\n",
       "    </tr>\n",
       "    <tr>\n",
       "      <th>1806</th>\n",
       "      <td>143.0</td>\n",
       "      <td>0.000</td>\n",
       "      <td>0.000</td>\n",
       "      <td>0.001</td>\n",
       "      <td>0.000</td>\n",
       "      <td>0.0</td>\n",
       "      <td>0.0</td>\n",
       "      <td>68.0</td>\n",
       "      <td>0.3</td>\n",
       "      <td>6.0</td>\n",
       "      <td>...</td>\n",
       "      <td>27.0</td>\n",
       "      <td>132.0</td>\n",
       "      <td>159.0</td>\n",
       "      <td>1.0</td>\n",
       "      <td>0.0</td>\n",
       "      <td>144.0</td>\n",
       "      <td>144.0</td>\n",
       "      <td>146.0</td>\n",
       "      <td>1.0</td>\n",
       "      <td>0.0</td>\n",
       "    </tr>\n",
       "    <tr>\n",
       "      <th>787</th>\n",
       "      <td>123.0</td>\n",
       "      <td>0.003</td>\n",
       "      <td>0.003</td>\n",
       "      <td>0.000</td>\n",
       "      <td>0.000</td>\n",
       "      <td>0.0</td>\n",
       "      <td>0.0</td>\n",
       "      <td>52.0</td>\n",
       "      <td>0.8</td>\n",
       "      <td>2.0</td>\n",
       "      <td>...</td>\n",
       "      <td>90.0</td>\n",
       "      <td>50.0</td>\n",
       "      <td>140.0</td>\n",
       "      <td>7.0</td>\n",
       "      <td>0.0</td>\n",
       "      <td>129.0</td>\n",
       "      <td>128.0</td>\n",
       "      <td>130.0</td>\n",
       "      <td>4.0</td>\n",
       "      <td>1.0</td>\n",
       "    </tr>\n",
       "    <tr>\n",
       "      <th>1941</th>\n",
       "      <td>133.0</td>\n",
       "      <td>0.000</td>\n",
       "      <td>0.004</td>\n",
       "      <td>0.006</td>\n",
       "      <td>0.004</td>\n",
       "      <td>0.0</td>\n",
       "      <td>0.0</td>\n",
       "      <td>62.0</td>\n",
       "      <td>2.1</td>\n",
       "      <td>0.0</td>\n",
       "      <td>...</td>\n",
       "      <td>98.0</td>\n",
       "      <td>64.0</td>\n",
       "      <td>162.0</td>\n",
       "      <td>2.0</td>\n",
       "      <td>0.0</td>\n",
       "      <td>133.0</td>\n",
       "      <td>122.0</td>\n",
       "      <td>129.0</td>\n",
       "      <td>25.0</td>\n",
       "      <td>0.0</td>\n",
       "    </tr>\n",
       "  </tbody>\n",
       "</table>\n",
       "<p>638 rows × 21 columns</p>\n",
       "</div>"
      ],
      "text/plain": [
       "      baseline value  accelerations  fetal_movement  uterine_contractions  \\\n",
       "961            133.0          0.000           0.000                 0.007   \n",
       "2096           133.0          0.000           0.000                 0.007   \n",
       "870            136.0          0.008           0.000                 0.007   \n",
       "792            146.0          0.000           0.000                 0.005   \n",
       "351            140.0          0.000           0.019                 0.000   \n",
       "...              ...            ...             ...                   ...   \n",
       "1315           125.0          0.004           0.012                 0.005   \n",
       "1270           119.0          0.000           0.000                 0.007   \n",
       "1806           143.0          0.000           0.000                 0.001   \n",
       "787            123.0          0.003           0.003                 0.000   \n",
       "1941           133.0          0.000           0.004                 0.006   \n",
       "\n",
       "      light_decelerations  severe_decelerations  prolongued_decelerations  \\\n",
       "961                 0.003                   0.0                       0.0   \n",
       "2096                0.000                   0.0                       0.0   \n",
       "870                 0.000                   0.0                       0.0   \n",
       "792                 0.001                   0.0                       0.0   \n",
       "351                 0.000                   0.0                       0.0   \n",
       "...                   ...                   ...                       ...   \n",
       "1315                0.006                   0.0                       0.0   \n",
       "1270                0.000                   0.0                       0.0   \n",
       "1806                0.000                   0.0                       0.0   \n",
       "787                 0.000                   0.0                       0.0   \n",
       "1941                0.004                   0.0                       0.0   \n",
       "\n",
       "      abnormal_short_term_variability  mean_value_of_short_term_variability  \\\n",
       "961                              35.0                                   1.3   \n",
       "2096                             75.0                                   0.4   \n",
       "870                              42.0                                   0.7   \n",
       "792                              55.0                                   0.7   \n",
       "351                              77.0                                   0.2   \n",
       "...                               ...                                   ...   \n",
       "1315                             23.0                                   2.2   \n",
       "1270                             27.0                                   1.2   \n",
       "1806                             68.0                                   0.3   \n",
       "787                              52.0                                   0.8   \n",
       "1941                             62.0                                   2.1   \n",
       "\n",
       "      percentage_of_time_with_abnormal_long_term_variability  ...  \\\n",
       "961                                                 4.0       ...   \n",
       "2096                                               15.0       ...   \n",
       "870                                                20.0       ...   \n",
       "792                                                32.0       ...   \n",
       "351                                                82.0       ...   \n",
       "...                                                 ...       ...   \n",
       "1315                                                0.0       ...   \n",
       "1270                                                0.0       ...   \n",
       "1806                                                6.0       ...   \n",
       "787                                                 2.0       ...   \n",
       "1941                                                0.0       ...   \n",
       "\n",
       "      histogram_width  histogram_min  histogram_max  \\\n",
       "961              90.0           67.0          157.0   \n",
       "2096             26.0          129.0          155.0   \n",
       "870              38.0          120.0          158.0   \n",
       "792              72.0           93.0          165.0   \n",
       "351               8.0          136.0          144.0   \n",
       "...               ...            ...            ...   \n",
       "1315            125.0           53.0          178.0   \n",
       "1270             37.0          109.0          146.0   \n",
       "1806             27.0          132.0          159.0   \n",
       "787              90.0           50.0          140.0   \n",
       "1941             98.0           64.0          162.0   \n",
       "\n",
       "      histogram_number_of_peaks  histogram_number_of_zeroes  histogram_mode  \\\n",
       "961                         7.0                         0.0           139.0   \n",
       "2096                        2.0                         0.0           136.0   \n",
       "870                         2.0                         1.0           141.0   \n",
       "792                         4.0                         0.0           150.0   \n",
       "351                         1.0                         0.0           141.0   \n",
       "...                         ...                         ...             ...   \n",
       "1315                        8.0                         0.0           143.0   \n",
       "1270                        1.0                         0.0           120.0   \n",
       "1806                        1.0                         0.0           144.0   \n",
       "787                         7.0                         0.0           129.0   \n",
       "1941                        2.0                         0.0           133.0   \n",
       "\n",
       "      histogram_mean  histogram_median  histogram_variance  histogram_tendency  \n",
       "961            135.0             139.0                16.0                 1.0  \n",
       "2096           137.0             139.0                 1.0                 0.0  \n",
       "870            143.0             144.0                 3.0                 0.0  \n",
       "792            147.0             150.0                 6.0                 1.0  \n",
       "351            140.0             142.0                 0.0                 0.0  \n",
       "...              ...               ...                 ...                 ...  \n",
       "1315           122.0             131.0                92.0                 0.0  \n",
       "1270           120.0             121.0                 1.0                -1.0  \n",
       "1806           144.0             146.0                 1.0                 0.0  \n",
       "787            128.0             130.0                 4.0                 1.0  \n",
       "1941           122.0             129.0                25.0                 0.0  \n",
       "\n",
       "[638 rows x 21 columns]"
      ]
     },
     "execution_count": 8,
     "metadata": {},
     "output_type": "execute_result"
    }
   ],
   "source": [
    "X_train, X_test, y_train, y_test = train_test_split(X, y, test_size=0.3, random_state=123)\n",
    "X_test"
   ]
  },
  {
   "attachments": {},
   "cell_type": "markdown",
   "metadata": {},
   "source": [
    "### Training of at least three variations of NN models\n",
    "\n",
    "As a first step I will instantiate the RF Classifier and fit to my data. \n",
    "Then I will capture the predicted classes and the probability, to be able to calculate the confusion matrix and the reference accuracy and ROC-AUC. This will give us a baseline to start from."
   ]
  },
  {
   "cell_type": "code",
   "execution_count": 9,
   "metadata": {},
   "outputs": [
    {
     "data": {
      "text/html": [
       "<style>#sk-container-id-1 {color: black;background-color: white;}#sk-container-id-1 pre{padding: 0;}#sk-container-id-1 div.sk-toggleable {background-color: white;}#sk-container-id-1 label.sk-toggleable__label {cursor: pointer;display: block;width: 100%;margin-bottom: 0;padding: 0.3em;box-sizing: border-box;text-align: center;}#sk-container-id-1 label.sk-toggleable__label-arrow:before {content: \"▸\";float: left;margin-right: 0.25em;color: #696969;}#sk-container-id-1 label.sk-toggleable__label-arrow:hover:before {color: black;}#sk-container-id-1 div.sk-estimator:hover label.sk-toggleable__label-arrow:before {color: black;}#sk-container-id-1 div.sk-toggleable__content {max-height: 0;max-width: 0;overflow: hidden;text-align: left;background-color: #f0f8ff;}#sk-container-id-1 div.sk-toggleable__content pre {margin: 0.2em;color: black;border-radius: 0.25em;background-color: #f0f8ff;}#sk-container-id-1 input.sk-toggleable__control:checked~div.sk-toggleable__content {max-height: 200px;max-width: 100%;overflow: auto;}#sk-container-id-1 input.sk-toggleable__control:checked~label.sk-toggleable__label-arrow:before {content: \"▾\";}#sk-container-id-1 div.sk-estimator input.sk-toggleable__control:checked~label.sk-toggleable__label {background-color: #d4ebff;}#sk-container-id-1 div.sk-label input.sk-toggleable__control:checked~label.sk-toggleable__label {background-color: #d4ebff;}#sk-container-id-1 input.sk-hidden--visually {border: 0;clip: rect(1px 1px 1px 1px);clip: rect(1px, 1px, 1px, 1px);height: 1px;margin: -1px;overflow: hidden;padding: 0;position: absolute;width: 1px;}#sk-container-id-1 div.sk-estimator {font-family: monospace;background-color: #f0f8ff;border: 1px dotted black;border-radius: 0.25em;box-sizing: border-box;margin-bottom: 0.5em;}#sk-container-id-1 div.sk-estimator:hover {background-color: #d4ebff;}#sk-container-id-1 div.sk-parallel-item::after {content: \"\";width: 100%;border-bottom: 1px solid gray;flex-grow: 1;}#sk-container-id-1 div.sk-label:hover label.sk-toggleable__label {background-color: #d4ebff;}#sk-container-id-1 div.sk-serial::before {content: \"\";position: absolute;border-left: 1px solid gray;box-sizing: border-box;top: 0;bottom: 0;left: 50%;z-index: 0;}#sk-container-id-1 div.sk-serial {display: flex;flex-direction: column;align-items: center;background-color: white;padding-right: 0.2em;padding-left: 0.2em;position: relative;}#sk-container-id-1 div.sk-item {position: relative;z-index: 1;}#sk-container-id-1 div.sk-parallel {display: flex;align-items: stretch;justify-content: center;background-color: white;position: relative;}#sk-container-id-1 div.sk-item::before, #sk-container-id-1 div.sk-parallel-item::before {content: \"\";position: absolute;border-left: 1px solid gray;box-sizing: border-box;top: 0;bottom: 0;left: 50%;z-index: -1;}#sk-container-id-1 div.sk-parallel-item {display: flex;flex-direction: column;z-index: 1;position: relative;background-color: white;}#sk-container-id-1 div.sk-parallel-item:first-child::after {align-self: flex-end;width: 50%;}#sk-container-id-1 div.sk-parallel-item:last-child::after {align-self: flex-start;width: 50%;}#sk-container-id-1 div.sk-parallel-item:only-child::after {width: 0;}#sk-container-id-1 div.sk-dashed-wrapped {border: 1px dashed gray;margin: 0 0.4em 0.5em 0.4em;box-sizing: border-box;padding-bottom: 0.4em;background-color: white;}#sk-container-id-1 div.sk-label label {font-family: monospace;font-weight: bold;display: inline-block;line-height: 1.2em;}#sk-container-id-1 div.sk-label-container {text-align: center;}#sk-container-id-1 div.sk-container {/* jupyter's `normalize.less` sets `[hidden] { display: none; }` but bootstrap.min.css set `[hidden] { display: none !important; }` so we also need the `!important` here to be able to override the default hidden behavior on the sphinx rendered scikit-learn.org. See: https://github.com/scikit-learn/scikit-learn/issues/21755 */display: inline-block !important;position: relative;}#sk-container-id-1 div.sk-text-repr-fallback {display: none;}</style><div id=\"sk-container-id-1\" class=\"sk-top-container\"><div class=\"sk-text-repr-fallback\"><pre>RandomForestClassifier(n_estimators=150)</pre><b>In a Jupyter environment, please rerun this cell to show the HTML representation or trust the notebook. <br />On GitHub, the HTML representation is unable to render, please try loading this page with nbviewer.org.</b></div><div class=\"sk-container\" hidden><div class=\"sk-item\"><div class=\"sk-estimator sk-toggleable\"><input class=\"sk-toggleable__control sk-hidden--visually\" id=\"sk-estimator-id-1\" type=\"checkbox\" checked><label for=\"sk-estimator-id-1\" class=\"sk-toggleable__label sk-toggleable__label-arrow\">RandomForestClassifier</label><div class=\"sk-toggleable__content\"><pre>RandomForestClassifier(n_estimators=150)</pre></div></div></div></div></div>"
      ],
      "text/plain": [
       "RandomForestClassifier(n_estimators=150)"
      ]
     },
     "execution_count": 9,
     "metadata": {},
     "output_type": "execute_result"
    }
   ],
   "source": [
    "rf_model = RandomForestClassifier(n_estimators=150)\n",
    "rf_model.fit(X_train, y_train)"
   ]
  },
  {
   "cell_type": "code",
   "execution_count": 10,
   "metadata": {},
   "outputs": [
    {
     "name": "stdout",
     "output_type": "stream",
     "text": [
      "accuracy is 0.940\n",
      "roc-auc is 0.985\n"
     ]
    }
   ],
   "source": [
    "y_pred_class_rf = rf_model.predict(X_test)\n",
    "y_pred_prob_rf = rf_model.predict_proba(X_test)\n",
    "\n",
    "\n",
    "print('accuracy is {:.3f}'.format(accuracy_score(y_test,y_pred_class_rf)))\n",
    "print('roc-auc is {:.3f}'.format(roc_auc_score(y_test,y_pred_prob_rf,  multi_class='ovr')))"
   ]
  },
  {
   "attachments": {},
   "cell_type": "markdown",
   "metadata": {},
   "source": [
    "Just to get a visual of this, I will create a function of the truth table for each of the method. It will take two labels and create the heat map for a summary dataframe where I will insert the results of each model:\n",
    "First I will store the data for this model here:"
   ]
  },
  {
   "cell_type": "code",
   "execution_count": 11,
   "metadata": {},
   "outputs": [],
   "source": [
    "summary = pd.DataFrame({'gt': y_test, 'pred_RF': y_pred_class_rf})"
   ]
  },
  {
   "attachments": {},
   "cell_type": "markdown",
   "metadata": {},
   "source": [
    "Now let's define the function, which will receive the two columns to be plotted (first should always be the ground truth and the second, the model to be tested)."
   ]
  },
  {
   "cell_type": "code",
   "execution_count": 30,
   "metadata": {},
   "outputs": [],
   "source": [
    "def heatMapTwoLayers(columnA, columnB):\n",
    "    heatMapData = pd.DataFrame({'gt': summary[columnA], 'pred': summary[columnB]})\n",
    "    heatMapData = heatMapData.value_counts().to_frame('counts').reset_index().pivot('gt', 'pred', 'counts')\n",
    "    sns.heatmap(heatMapData, cmap=\"Blues\", annot=True, fmt='g')\n",
    "\n"
   ]
  },
  {
   "attachments": {},
   "cell_type": "markdown",
   "metadata": {},
   "source": [
    "Now when we plot this, we see that the accuracy is pretty high.\n",
    "In this case, the items in the diagonal (summing up 600 cases) are the cases got right. Divided by the total cases (638) it gives us the accuracy of 94.2% highlighted above.\n",
    "\n",
    "It is a pretty high accuracy for a method relatively fast, such as Random Forest Classifiers."
   ]
  },
  {
   "cell_type": "code",
   "execution_count": 31,
   "metadata": {},
   "outputs": [
    {
     "name": "stderr",
     "output_type": "stream",
     "text": [
      "C:\\Users\\Usuario\\AppData\\Local\\Temp\\ipykernel_19324\\289324659.py:3: FutureWarning: In a future version of pandas all arguments of DataFrame.pivot will be keyword-only.\n",
      "  heatMapData = heatMapData.value_counts().to_frame('counts').reset_index().pivot('gt', 'pred', 'counts')\n"
     ]
    },
    {
     "data": {
      "image/png": "[encoded data removed]",
      "text/plain": [
       "<Figure size 640x480 with 2 Axes>"
      ]
     },
     "metadata": {},
     "output_type": "display_data"
    }
   ],
   "source": [
    "heatMapTwoLayers('gt', 'pred_RF')"
   ]
  },
  {
   "attachments": {},
   "cell_type": "markdown",
   "metadata": {},
   "source": [
    "So as a result, in the execution of this process we have got an accuracy of 94.2% and a very convenient execution time.\n",
    "It is time now to see if we can get any further with Neural Networks.\n",
    "\n",
    "I will import Keras library. "
   ]
  },
  {
   "cell_type": "code",
   "execution_count": 14,
   "metadata": {},
   "outputs": [],
   "source": [
    "from keras.models  import Sequential\n",
    "from keras.layers import Input, Dense, Flatten, Dropout, BatchNormalization\n",
    "from keras.optimizers import Adam, SGD, RMSprop"
   ]
  },
  {
   "attachments": {},
   "cell_type": "markdown",
   "metadata": {},
   "source": [
    "It is advised in the course to perform normalization.\n",
    "This is because, if we don't normalize the data, those weights with higher numerical value will influence more the loss function and therefore will progress more quickly than the others. So I will do exactly the same here:"
   ]
  },
  {
   "cell_type": "code",
   "execution_count": 15,
   "metadata": {},
   "outputs": [],
   "source": [
    "normalizer = StandardScaler()\n",
    "X_train_norm = normalizer.fit_transform(X_train)\n",
    "X_test_norm = normalizer.transform(X_test)"
   ]
  },
  {
   "attachments": {},
   "cell_type": "markdown",
   "metadata": {},
   "source": [
    "On another note, multiclass problems can be solved by Neural Networks but we will need to have one output per value. In other words, we need to one-hot-encode the output. This we can do by Pandas get_dummies method:"
   ]
  },
  {
   "cell_type": "code",
   "execution_count": 16,
   "metadata": {},
   "outputs": [],
   "source": [
    "y_train_2D = pd.get_dummies(y_train)\n",
    "y_test_2D = pd.get_dummies(y_test)"
   ]
  },
  {
   "attachments": {},
   "cell_type": "markdown",
   "metadata": {},
   "source": [
    "And now it's time to configure my NN model.\n",
    "In all cases I will be running the code to 1000 epochs. I found empirically, starting this assignment, that it was an adequate number of epochs for comparison. I tried 5000 and after 1500 epochs it was bringing little or no value. Therefore 1000 looks like a reasonable guess given the size of this batch.\n",
    "\n",
    "#### Brief description of the model:\n",
    "\n",
    "##### General configuration\n",
    "All models I build will use the same dataset, so generally speaking, they should all have these dimensions:\n",
    "\n",
    "- Input dimension: 21 (number of features).\n",
    "- Output dimension: 3 (one for each possible value of the outcome)"
   ]
  },
  {
   "attachments": {},
   "cell_type": "markdown",
   "metadata": {},
   "source": [
    "Before starting, I will create a function which will take the model history as parameter and plot the loss and accuracy of both train and test subsets."
   ]
  },
  {
   "cell_type": "code",
   "execution_count": 17,
   "metadata": {},
   "outputs": [],
   "source": [
    "def plotNNResults(run_hist):\n",
    "    n = len(run_hist.history[\"loss\"])\n",
    "\n",
    "    fig = plt.figure(figsize=(12, 6))\n",
    "    ax = fig.add_subplot(1, 2, 1)\n",
    "    ax.plot(range(n), (run_hist.history[\"loss\"]),'r.', label=\"Train Loss\")\n",
    "    ax.plot(range(n), (run_hist.history[\"val_loss\"]),'b.', label=\"Validation Loss\")\n",
    "    ax.legend()\n",
    "    ax.set_title('Loss over iterations')\n",
    "\n",
    "    ax = fig.add_subplot(1, 2, 2)\n",
    "    ax.plot(range(n), (run_hist.history[\"accuracy\"]),'r.', label=\"Train Acc\")\n",
    "    ax.plot(range(n), (run_hist.history[\"val_accuracy\"]),'b.', label=\"Validation Acc\")\n",
    "    ax.legend(loc='lower right')\n",
    "    ax.set_title('Accuracy over iterations')"
   ]
  },
  {
   "attachments": {},
   "cell_type": "markdown",
   "metadata": {},
   "source": [
    "For the layers configuration, I have chosen Dense as a start because it's the simplest case. From there, we can complexify afterwards.\n",
    "\n",
    "#### Specific configuration for model 1\n",
    "\n",
    "Description of the model:\n",
    "- Only one dense layer with 12 nodes and activation function is sigmoid.\n",
    "- Iteration based on:\n",
    "    - Descent function: SGD (Stochastic Gradient Descent)\n",
    "    - Learning rate: .003\n",
    "    - Loss function: binary_crossentropy.\n",
    "- Number of iterations (epochs): 1000.\n",
    "\n"
   ]
  },
  {
   "cell_type": "code",
   "execution_count": 18,
   "metadata": {},
   "outputs": [
    {
     "name": "stdout",
     "output_type": "stream",
     "text": [
      "Model: \"sequential\"\n",
      "_________________________________________________________________\n",
      " Layer (type)                Output Shape              Param #   \n",
      "=================================================================\n",
      " dense (Dense)               (None, 12)                264       \n",
      "                                                                 \n",
      " dense_1 (Dense)             (None, 3)                 39        \n",
      "                                                                 \n",
      "=================================================================\n",
      "Total params: 303\n",
      "Trainable params: 303\n",
      "Non-trainable params: 0\n",
      "_________________________________________________________________\n"
     ]
    }
   ],
   "source": [
    "model_1 = Sequential()\n",
    "model_1.add(Dense(12,input_shape = (21,),activation = 'sigmoid'))\n",
    "model_1.add(Dense(3,activation='sigmoid'))\n",
    "\n",
    "model_1.summary()"
   ]
  },
  {
   "attachments": {},
   "cell_type": "markdown",
   "metadata": {},
   "source": [
    "I defined this number of epochs by trial and error. \n",
    "Initially set to 200, I increased it to 1000 to have a fair comparison across models.\n",
    "\n",
    "Note that I have removed the output of the execution of each model, because it resulted in a PDF of more than 190 pages.\n",
    "If you would like to have the complete version, please let me know."
   ]
  },
  {
   "cell_type": "code",
   "execution_count": null,
   "metadata": {},
   "outputs": [],
   "source": [
    "model_1.compile(SGD(learning_rate = .003), \"binary_crossentropy\", metrics=[\"accuracy\"])\n",
    "run_hist_1 = model_1.fit(X_train_norm, y_train_2D, validation_data=(X_test_norm, y_test_2D), epochs=1000)"
   ]
  },
  {
   "attachments": {},
   "cell_type": "markdown",
   "metadata": {},
   "source": [
    "Let's examine the accuracy of the model. \n",
    "Take into account that original values are encoded 1 to 3, whereas the output of the NN model is 0 to 2. \n",
    "So if we need to compare both values, we will be adding 1 to the output of the Neural Network, we obtain an accuracy of 88.3% as yielded in the execution of the model.\n",
    "\n",
    "It's not a great result taking into account that RF predicted with 94% accuracy and less than 0.1 s, whereas NN yielded 88.4% but take more than 110 seconds."
   ]
  },
  {
   "cell_type": "code",
   "execution_count": 20,
   "metadata": {},
   "outputs": [
    {
     "name": "stdout",
     "output_type": "stream",
     "text": [
      "20/20 [==============================] - 0s 895us/step\n",
      "accuracy is 0.876\n"
     ]
    }
   ],
   "source": [
    "#As predict classes was removed from TF 2.5x on, we need to use Numpy to get the arg max:\n",
    "\n",
    "y_pred_prob_nn_1 = model_1.predict(X_test_norm)\n",
    "y_pred_class_nn_1=np.argmax(y_pred_prob_nn_1,axis=1)\n",
    "\n",
    "\n",
    "print('accuracy is {:.3f}'.format(accuracy_score(y_test,y_pred_class_nn_1+1)))\n"
   ]
  },
  {
   "attachments": {},
   "cell_type": "markdown",
   "metadata": {},
   "source": [
    "Let's have a look at the truth table:"
   ]
  },
  {
   "cell_type": "code",
   "execution_count": 32,
   "metadata": {},
   "outputs": [
    {
     "name": "stderr",
     "output_type": "stream",
     "text": [
      "C:\\Users\\Usuario\\AppData\\Local\\Temp\\ipykernel_19324\\289324659.py:3: FutureWarning: In a future version of pandas all arguments of DataFrame.pivot will be keyword-only.\n",
      "  heatMapData = heatMapData.value_counts().to_frame('counts').reset_index().pivot('gt', 'pred', 'counts')\n"
     ]
    },
    {
     "data": {
      "image/png": "[encoded data removed]",
      "text/plain": [
       "<Figure size 640x480 with 2 Axes>"
      ]
     },
     "metadata": {},
     "output_type": "display_data"
    }
   ],
   "source": [
    "summary['pred_nn1'] = y_pred_class_nn_1\n",
    "heatMapTwoLayers('gt', 'pred_nn1')"
   ]
  },
  {
   "attachments": {},
   "cell_type": "markdown",
   "metadata": {},
   "source": [
    "The NN model shows that we very quickly attain 80% of accuracy.\n",
    "Then it plateaus for approximately 200 iterations, to start improving once again.\n",
    "Finally, at about 800 iterations the validation accuracy stagnates again."
   ]
  },
  {
   "cell_type": "code",
   "execution_count": 22,
   "metadata": {},
   "outputs": [
    {
     "data": {
      "image/png": "[encoded data removed]",
      "text/plain": [
       "<Figure size 1200x600 with 2 Axes>"
      ]
     },
     "metadata": {},
     "output_type": "display_data"
    }
   ],
   "source": [
    "plotNNResults(run_hist_1)"
   ]
  },
  {
   "attachments": {},
   "cell_type": "markdown",
   "metadata": {},
   "source": [
    "#### Specific configuration for model 2\n",
    "\n",
    "Description of the model:\n",
    "- Model 1, plus: \n",
    "    - Change the existing dense layer to activation Function ReLU and only 6 nodes.\n",
    "    - Also, add an extra layer of 6 nodes and activation function ReLU."
   ]
  },
  {
   "cell_type": "code",
   "execution_count": null,
   "metadata": {},
   "outputs": [],
   "source": [
    "\n",
    "model_2 = Sequential()\n",
    "model_2.add(Dense(6, input_shape=(21,), activation=\"relu\"))\n",
    "model_2.add(Dense(6,  activation=\"relu\"))\n",
    "model_2.add(Dense(3, activation=\"sigmoid\"))\n",
    "\n",
    "model_2.compile(SGD(learning_rate = .003), \"binary_crossentropy\", metrics=[\"accuracy\"])\n",
    "run_hist_2 = model_2.fit(X_train_norm, y_train_2D, validation_data=(X_test_norm, y_test_2D), epochs=1000)"
   ]
  },
  {
   "attachments": {},
   "cell_type": "markdown",
   "metadata": {},
   "source": [
    "This took again 107.3 seconds but the accuracy was improved up to 89.97%."
   ]
  },
  {
   "cell_type": "code",
   "execution_count": 24,
   "metadata": {},
   "outputs": [
    {
     "data": {
      "image/png": "[encoded data removed]",
      "text/plain": [
       "<Figure size 1200x600 with 2 Axes>"
      ]
     },
     "metadata": {},
     "output_type": "display_data"
    }
   ],
   "source": [
    "plotNNResults(run_hist_2)"
   ]
  },
  {
   "attachments": {},
   "cell_type": "markdown",
   "metadata": {},
   "source": [
    "#### Specific configuration for model 3\n",
    "\n",
    "Description of the model:\n",
    "- Model 2, plus: \n",
    "    - Add three aditional 6-node layers with activation function ReLU.\n",
    "    - Increase the learning rate to .01."
   ]
  },
  {
   "cell_type": "code",
   "execution_count": null,
   "metadata": {},
   "outputs": [],
   "source": [
    "### BEGIN SOLUTION\n",
    "model_3 = Sequential()\n",
    "model_3.add(Dense(6, input_shape=(21,), activation=\"relu\"))\n",
    "model_3.add(Dense(6,  activation=\"relu\"))\n",
    "model_3.add(Dense(6,  activation=\"relu\"))\n",
    "model_3.add(Dense(6,  activation=\"relu\"))\n",
    "model_3.add(Dense(3, activation=\"sigmoid\"))\n",
    "\n",
    "model_3.compile(SGD(learning_rate = .01), \"binary_crossentropy\", metrics=[\"accuracy\"])\n",
    "run_hist_3 = model_3.fit(X_train_norm, y_train_2D, validation_data=(X_test_norm, y_test_2D), epochs=1000)"
   ]
  },
  {
   "cell_type": "code",
   "execution_count": 27,
   "metadata": {},
   "outputs": [
    {
     "data": {
      "image/png": "[encoded data removed]",
      "text/plain": [
       "<Figure size 1200x600 with 2 Axes>"
      ]
     },
     "metadata": {},
     "output_type": "display_data"
    }
   ],
   "source": [
    "plotNNResults(run_hist_3)"
   ]
  },
  {
   "attachments": {},
   "cell_type": "markdown",
   "metadata": {},
   "source": [
    "Execution time is 113 seconds and train accuracy hits 93.5%.\n",
    "\n",
    "However this result is deceptive. We see a clear trend to overfitting:\n",
    "After 200 iterations, we clearly keep improving our train loss and accuracy, BUT the validation loss and accuracy start to diverge. \n",
    "This means that we are starting to reflect the measurement error in the data, rather than it's variance. "
   ]
  },
  {
   "attachments": {},
   "cell_type": "markdown",
   "metadata": {},
   "source": [
    "### Summary of all three attempts\n",
    "\n",
    "Here is a summary of the performance of the three models after 1000 epochs each:\n",
    "\n",
    "| Model selected                                          | Execution Time (s) | Validation Accuracy in % (after 1000 epochs for NN) | Comments                             |\n",
    "|---------------------------------------------------------|:------------------:|-----------------------------------------------------|--------------------------------------|\n",
    "| Baseline model: Random Forest Classifier                | <0.1               | 94.2%                                               |                                      |\n",
    "| NN Model 1: SGD, LR=0.003, Binary_crossEntropy, Sigmoid | 94.8               | 87.6%                                               |                                      |\n",
    "| NN Model 2: Change to ReLU and add extra layer          | 107.3              | ~90%                                                |                                      |\n",
    "| NN Model 3: Add ReLU layer and Increase Learning Rate   | 113                | ~89.7%                                              | Overfit probably due to aggresive LR |"
   ]
  },
  {
   "attachments": {},
   "cell_type": "markdown",
   "metadata": {},
   "source": [
    "## Which of the Deep Learning models would I recommend as a final model\n",
    "\n",
    "If we have to choose from the three neural network models shown above, it seems that adding extra layers configured with ReLU activation function was beneficial. This is what we did in model 2.\n",
    "Therefore it looks like this would be the best option (among the NN models tested)"
   ]
  },
  {
   "attachments": {},
   "cell_type": "markdown",
   "metadata": {},
   "source": [
    "\n",
    "\n",
    "## Summary Key Findings and Insights\n",
    "\n",
    "#### Insight #1: Are NN always necessary or better?\n",
    "\n",
    "The key finding of this experiment is that the baseline model (RF Classifier) outperforms all of the NN experiments in terms of accuracy tested so far.\n",
    "Moreover it takes very little computational cost, as it takes less than one tenth of a second to compute.\n",
    "\n",
    "The conclusion that I draw from this analysis is that the need to use Neural Networks depends on the business needs.\n",
    "- If \"normal\" accuracies (in the area of 94%) are enough, then RF may serve the purpose as they are fast and they meet the accuracy requirements.\n",
    "- If we need to get very high accuracies with the data provided, we could maybe keep tuning the neural networks. Model 2, for example, yielded an increase in accuracy when compared to model 1: accuracy increased  90% at the cost of 13 extra seconds computationally. This is still below the bar compared to RF; but it is an increase. However, such kind of tests must be wary with the possibility of overfitting, as is shown in the model 3, where further epochs did not provide extra accuracy.\n",
    "\n",
    "### Insight #2: Computational cost remains more or less constant throughout the tests.\n",
    "\n",
    "Surprisingly, throughout all three models we got computational costs with similar orders of magnitude (94.8 ~ 113).\n",
    "My takeaway is that Neural Network models impose an overall increase in computational cost but, once this is done, increasing the accuracy (by changing the settings) causes marginal increments of the computational time.\n",
    "So it is relatively possible to test different setups and compare their performances.\n",
    "\n",
    "### Insight #3: Influence of the Learning Rate in overfitting\n",
    "\n",
    "In model #3 I increased the learning rate.  I did expect that this would produce a more the chart on test error and accuracy would be more bumpy (as steps are bigger).\n",
    "But I didn't expect to overfit the data.\n",
    "\n",
    "If we think about it, increasing it may have accelerated our experiment in a healthy way. We can assume that we got to the same solution as we got in Model 2, but quicker (e.g. in 1000 steps instead of 1000)\n",
    "What causes the overfitting is, once that point is reached, to keep going on until we hit the 1000 epochs mark. \n",
    "\n",
    "The conclusion is that we need to pay attention to a good combination of learning rate and epochs. Elbow will probably come first when LR is increased.\n",
    "\n",
    "## Suggestions for next steps in analyzing this data, which may include suggesting revisiting this model or adding specific data features to achieve a better model.\n",
    "\n",
    "As key takeaways, I mentioned that maybe the dataset is not complex enough to justify the usage of neural networks.\n",
    "On the other hand, it is also true that there are plenty of hyperparameters to adjust. Here I changed the number of layers, the activation function and the learning rate in the three models exposed.\n",
    "\n",
    "Therefore, as next steps I would suggest acting on both:\n",
    "- Use more complex datasets where simpler methods are not capable of achieving an accuracy of ~95%,\n",
    "- Test other hyperparameters such as the loss function, which remained constant in my experiment.\n"
   ]
  }
 ],
 "metadata": {
  "kernelspec": {
   "display_name": "Python 3",
   "language": "python",
   "name": "python3"
  },
  "language_info": {
   "codemirror_mode": {
    "name": "ipython",
    "version": 3
   },
   "file_extension": ".py",
   "mimetype": "text/x-python",
   "name": "python",
   "nbconvert_exporter": "python",
   "pygments_lexer": "ipython3",
   "version": "3.11.0"
  },
  "orig_nbformat": 4,
  "vscode": {
   "interpreter": {
    "hash": "c261aea317cc0286b3b3261fbba9abdec21eaa57589985bb7a274bf54d6cc0a7"
   }
  }
 },
 "nbformat": 4,
 "nbformat_minor": 2
}
